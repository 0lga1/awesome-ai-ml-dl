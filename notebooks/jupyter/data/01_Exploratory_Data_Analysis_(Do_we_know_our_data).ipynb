{
 "cells": [
  {
   "cell_type": "markdown",
   "metadata": {
    "colab_type": "text",
    "id": "QJb3sp4ZCF_O"
   },
   "source": [
    "# Exploratory Data Analysis\n",
    "\n",
    "Notebook supporting the [**Do we know our data, as good as we know our tools** talk](https://devoxxuk19.confinabox.com/talk/VEM-8021/Do_we_know_our_data_as_good_as_we_know_our_tools%3F) at [Devoxx UK 2019](http://twitter.com/@DevoxxUK).\n",
    "\n",
    "The contents of the notebook is inspired by many sources.\n",
    "\n",
    "### High-level steps covered:\n",
    "\n",
    "- Know the domain knowledge\n",
    "- Start with basics: get a feeling of the data\n",
    "- Check descriptive statistics\n",
    "- Plot distribution of features\n",
    "- Check correlations between features, with target column\n",
    "\n",
    "Steps suggested by [Machine Learning Master: Understand Your Machine Learning Data With Descriptive Statistics in Python](https://machinelearningmastery.com/understand-machine-learning-data-descriptive-statistics-python/):\n",
    "- Peek at Your data\n",
    "- Dimensions of Your Data\n",
    "- Data Type For Each Attribute\n",
    "- Descriptive Statistics\n",
    "- Class Distribution (Classification Only)\n",
    "- Correlation Between Attributes\n",
    "- Skew of Univariate Distributions\n",
    "\n",
    "### Resources \n",
    "\n",
    "- [Helpful Python Code Snippets for Data Exploration in Pandas](https://medium.com/@msalmon00/helpful-python-code-snippets-for-data-exploration-in-pandas-b7c5aed5ecb9)\n",
    "- [The Ultimate Python Seaborn Tutorial: Gotta Catch ‘Em All](https://elitedatascience.com/python-seaborn-tutorial)\n",
    "- [Python Data Science Handbook](https://jakevdp.github.io/PythonDataScienceHandbook/)\n",
    "- [Notebook on Boston Housing dataset](https://towardsdatascience.com/linear-regression-on-boston-housing-dataset-f409b7e4a155)\n",
    "- **[Useful cheatsheets](https://github.com/neomatrix369/awesome-ai-ml-dl/blob/master/README-details.md#cheatsheets)**\n",
    "\n",
    "#### Visualisation:\n",
    "\n",
    "- [Fundamentals of Data Visualization](https://serialmentor.com/dataviz/)\n",
    "- [Visualize Machine Learning Data in Python With Pandas](https://machinelearningmastery.com/visualize-machine-learning-data-python-pandas/)\n",
    "- [Python Data Science Notebooks](https://github.com/donnemartin/data-science-ipython-notebooks)\n",
    "\n",
    "#### Notebooks exploring the ML workflow (start-to-finish):\n",
    "\n",
    "- [Learn Machine Learning in a Weekend: Day 1: Regression](https://colab.research.google.com/drive/19uoDyGAxJ0zCwPT6cNb1xkYOfySNZChV#scrollTo=P8BmebTwGIhS)\n",
    "- [Learn Machine Learning in a Weekend: Day 2: Classification](https://colab.research.google.com/drive/1i-fOhU87wWrzgnTV0o54MQyHmRVJK0qt#scrollTo=cy6gO2H7oL3E)\n",
    "\n",
    "\n",
    "Please refer to the [Slides](http://bit.ly/do-we-know-our-data) for the step here after."
   ]
  },
  {
   "cell_type": "markdown",
   "metadata": {
    "colab_type": "text",
    "id": "qIhcY8dYE6QZ"
   },
   "source": [
    "### Domain knowledge"
   ]
  },
  {
   "cell_type": "markdown",
   "metadata": {
    "colab_type": "text",
    "id": "pMktiylmHncM"
   },
   "source": [
    "Ask all the questions you should ask with regards to the domain and related domains or sub-domains.\n",
    "\n",
    "It is a good idea to know the **why** part of the action, why are we doing what we are doing with the data, see the [five whys](https://en.wikipedia.org/wiki/5_Whys).\n",
    "\n",
    "Some ideas (of course, please come up with your own as well):\n",
    "\n",
    "- We want to solve a problem in the end, with ML, and have good results. If we don’t understand our data, we might not be able to train a model because of incoherent or missing data, or have poor results because we have misleading (unbalanced, highly correlated, too many useless features) data. Thus we need to find out if there are incoherent/missing/misleading data\n",
    "- Black box: if anything wrong, if we don’t understand our data, we won’t be able to correct it\n",
    "- If you don’t have domain knowledge, you risk wasting time on finding the root causes of issues. \n",
    "- When I work with someone, I want to get to know that person to get the best out of your relationship\n",
    "- Know the nature / boundaries / source of the data\n",
    "\n",
    "\n"
   ]
  },
  {
   "cell_type": "markdown",
   "metadata": {
    "colab_type": "text",
    "id": "aOTleqDMGK1M"
   },
   "source": [
    "### Start with basics: get a feeling of the data\n"
   ]
  },
  {
   "cell_type": "markdown",
   "metadata": {
    "colab_type": "text",
    "id": "mFimn8EVi_rK"
   },
   "source": [
    "#### Load Your Data [DEMO - WALKTHRU]"
   ]
  },
  {
   "cell_type": "code",
   "execution_count": 2,
   "metadata": {
    "colab": {
     "base_uri": "https://localhost:8080/",
     "height": 967
    },
    "colab_type": "code",
    "id": "GrREe3x_jC9k",
    "outputId": "488158bb-1e69-4559-da50-99aff7d5c312"
   },
   "outputs": [
    {
     "name": "stdout",
     "output_type": "stream",
     "text": [
      "rm: cannot remove 'housing.names': No such file or directory\n",
      "--2019-04-28 21:24:13--  https://raw.githubusercontent.com/jbrownlee/Datasets/master/housing.names\n",
      "Resolving raw.githubusercontent.com (raw.githubusercontent.com)... 151.101.16.133\n",
      "Connecting to raw.githubusercontent.com (raw.githubusercontent.com)|151.101.16.133|:443... connected.\n",
      "HTTP request sent, awaiting response... 200 OK\n",
      "Length: 2080 (2.0K) [text/plain]\n",
      "Saving to: ‘housing.names’\n",
      "\n",
      "housing.names       100%[===================>]   2.03K  --.-KB/s    in 0s      \n",
      "\n",
      "2019-04-28 21:24:13 (66.7 MB/s) - ‘housing.names’ saved [2080/2080]\n",
      "\n",
      "Names and descriptions of the fields of the Boston Housing dataset can be found at\n",
      "https://github.com/jbrownlee/Datasets/blob/master/housing.names\n",
      "\n",
      "1. Title: Boston Housing Data\n",
      "\n",
      "2. Sources:\n",
      "   (a) Origin:  This dataset was taken from the StatLib library which is\n",
      "                maintained at Carnegie Mellon University.\n",
      "   (b) Creator:  Harrison, D. and Rubinfeld, D.L. 'Hedonic prices and the \n",
      "                 demand for clean air', J. Environ. Economics & Management,\n",
      "                 vol.5, 81-102, 1978.\n",
      "   (c) Date: July 7, 1993\n",
      "\n",
      "3. Past Usage:\n",
      "   -   Used in Belsley, Kuh & Welsch, 'Regression diagnostics ...', Wiley, \n",
      "       1980.   N.B. Various transformations are used in the table on\n",
      "       pages 244-261.\n",
      "    -  Quinlan,R. (1993). Combining Instance-Based and Model-Based Learning.\n",
      "       In Proceedings on the Tenth International Conference of Machine \n",
      "       Learning, 236-243, University of Massachusetts, Amherst. Morgan\n",
      "       Kaufmann.\n",
      "\n",
      "4. Relevant Information:\n",
      "\n",
      "   Concerns housing values in suburbs of Boston.\n",
      "\n",
      "5. Number of Instances: 506\n",
      "\n",
      "6. Number of Attributes: 13 continuous attributes (including \"class\"\n",
      "                         attribute \"MEDV\"), 1 binary-valued attribute.\n",
      "\n",
      "7. Attribute Information:\n",
      "\n",
      "    1. CRIM      per capita crime rate by town\n",
      "    2. ZN        proportion of residential land zoned for lots over \n",
      "                 25,000 sq.ft.\n",
      "    3. INDUS     proportion of non-retail business acres per town\n",
      "    4. CHAS      Charles River dummy variable (= 1 if tract bounds \n",
      "                 river; 0 otherwise)\n",
      "    5. NOX       nitric oxides concentration (parts per 10 million)\n",
      "    6. RM        average number of rooms per dwelling\n",
      "    7. AGE       proportion of owner-occupied units built prior to 1940\n",
      "    8. DIS       weighted distances to five Boston employment centres\n",
      "    9. RAD       index of accessibility to radial highways\n",
      "    10. TAX      full-value property-tax rate per $10,000\n",
      "    11. PTRATIO  pupil-teacher ratio by town\n",
      "    12. B        1000(Bk - 0.63)^2 where Bk is the proportion of blacks \n",
      "                 by town\n",
      "    13. LSTAT    % lower status of the population\n",
      "    14. MEDV     Median value of owner-occupied homes in $1000's\n",
      "\n",
      "8. Missing Attribute Values:  None.\n",
      "\n",
      "\n",
      "\n"
     ]
    }
   ],
   "source": [
    "import pandas as pd\n",
    "import numpy as np\n",
    "import seaborn as sns\n",
    "import matplotlib.pyplot as plt\n",
    "import random\n",
    "\n",
    "sns.set()\n",
    "\n",
    "url = \"https://raw.githubusercontent.com/jbrownlee/Datasets/master/housing.csv\"\n",
    "names = [\"crim\",\"zn\",\"indus\",\"chas\",\"nox\",\"rm\",\"age\",\"dis\",\"rad\",\"tax\",\"ptratio\",\"b\",\"lstat\",\"medv\"]\n",
    "data = pd.read_csv(url, names=names)\n",
    "\n",
    "!rm housing.names || true\n",
    "!wget https://raw.githubusercontent.com/jbrownlee/Datasets/master/housing.names\n",
    "print(\"Names and descriptions of the fields of the Boston Housing dataset can be found at\")\n",
    "print(\"https://github.com/jbrownlee/Datasets/blob/master/housing.names\")\n",
    "print(\"\")\n",
    "!cat housing.names"
   ]
  },
  {
   "cell_type": "markdown",
   "metadata": {},
   "source": [
    "### Add nulls to dataset (randomly to one or more columns)\n",
    "_Not expected to be done with real world datasets, in this specific case it's a case of tainting the dataset to demonstrate how a duplicated dataset would look like._\n",
    "_This is not a part of the EDA process_"
   ]
  },
  {
   "cell_type": "code",
   "execution_count": 3,
   "metadata": {},
   "outputs": [],
   "source": [
    "def generate_random_sample(source_list=range(0, 10), max_number_of_choices=5):\n",
    "    return random.sample(set(source_list), random.randint(1, max_number_of_choices))\n",
    "\n",
    "def create_rows_with_random_nulls(source_dataframe, num_of_rows=50, random_seed=42):\n",
    "    random.seed(random_seed)\n",
    "    \n",
    "    random_rows = source_dataframe.sample(n=num_of_rows).copy()\n",
    "\n",
    "    maximum_rows = random_rows.shape[0]\n",
    "    maximum_columns = random_rows.shape[1]\n",
    "    columns_to_fill = [random.choice(random_rows.columns) for dummy in generate_random_sample(source_list=range(0, maximum_columns), max_number_of_choices=maximum_columns)]\n",
    "\n",
    "    for column in columns_to_fill:\n",
    "        rows_to_fill = generate_random_sample(source_list=random_rows.index.values, max_number_of_choices=maximum_rows)\n",
    "        for row in rows_to_fill:\n",
    "            random_rows.loc[row, column] = np.nan\n",
    "\n",
    "    target_dataframe = pd.concat([source_dataframe, random_rows])\n",
    "    return target_dataframe\n",
    "    \n",
    "data = create_rows_with_random_nulls(data)"
   ]
  },
  {
   "cell_type": "markdown",
   "metadata": {},
   "source": [
    "### Duplicate rows in clean dataset\n",
    "_Not expected to be done with real world datasets, in this specific case it's a case of tainting the dataset to demonstrate how a duplicated dataset would look like._\n",
    "_This is not a part of the EDA process_"
   ]
  },
  {
   "cell_type": "code",
   "execution_count": 4,
   "metadata": {},
   "outputs": [
    {
     "name": "stdout",
     "output_type": "stream",
     "text": [
      "Before adding duplicates: 556\n",
      "After adding duplicates: 606\n"
     ]
    }
   ],
   "source": [
    "def duplicate_rows(source_dataframe, num_of_rows=50, random_seed=42):\n",
    "    maximum_rows = source_dataframe.shape[0]\n",
    "    random.seed(random_seed)\n",
    "    \n",
    "    random_indices = [random.randrange(0, maximum_rows) for a_random_value in range(num_of_rows)]\n",
    "    random_rows = source_dataframe.iloc[random_indices].copy()\n",
    "\n",
    "    target_dataframe = pd.concat([source_dataframe, random_rows])\n",
    "\n",
    "    return target_dataframe\n",
    "\n",
    "print(\"Before adding duplicates:\", data.shape[0])\n",
    "data = duplicate_rows(data)\n",
    "print(\"After adding duplicates:\", data.shape[0])"
   ]
  },
  {
   "cell_type": "markdown",
   "metadata": {
    "colab_type": "text",
    "id": "Mm5EsDitJXgQ"
   },
   "source": [
    "####  Get familiar with columns [DEMO - WALKTHRU]\n",
    "Go through the dataset description. Have some thoughts about which features might be related, what meaning they have, what impact they might have on target variable.\n",
    ">>\n",
    "- Medv is our price that we will try to predict\n",
    "- Some information about type of area (residential / industrial), former has probably a positive impact to price contrary to latter.\n",
    "- Those features about criminality, nitric oxides (pollution?), LSTAT (social class?) should have a negative impact.\n",
    "- etc..."
   ]
  },
  {
   "cell_type": "markdown",
   "metadata": {
    "colab_type": "text",
    "id": "Mm5EsDitJXgQ"
   },
   "source": [
    "####  Dimensions of Your Data [DEMO - WALKTHRU]\n",
    "Have a very good handle on how much data you have, both in terms of rows and columns."
   ]
  },
  {
   "cell_type": "code",
   "execution_count": 5,
   "metadata": {
    "colab": {
     "base_uri": "https://localhost:8080/",
     "height": 121
    },
    "colab_type": "code",
    "id": "WjnQpQCFJq4G",
    "outputId": "4359fa84-6c99-439c-a8eb-9ebcbe31527d"
   },
   "outputs": [
    {
     "name": "stdout",
     "output_type": "stream",
     "text": [
      "(rows, columms) =  (606, 14)\n"
     ]
    }
   ],
   "source": [
    "shape = data.shape\n",
    "print(\"(rows, columms) = \", shape)"
   ]
  },
  {
   "cell_type": "markdown",
   "metadata": {
    "colab_type": "text",
    "id": "Mm5EsDitJXgQ"
   },
   "source": [
    "Rows: \n",
    "-       too few rows mean you might not have enough data for your algoritms to train\n",
    "-       too many rows mean your training process will take long\n",
    "\n",
    "Columns / features:\n",
    "-       too few columns/features again will have an impact on generalising or usefulness of the model\n",
    "-       too many columns/featurs could cause training performance to suffer, and does not mean better accuracy\n"
   ]
  },
  {
   "cell_type": "markdown",
   "metadata": {
    "colab_type": "text",
    "id": "OH3OVpoBJRtl"
   },
   "source": [
    "#### Peek at Your Data [DEMO - WALKTHRU]\n",
    "Looking at the raw data can reveal insights that you cannot get any other way.\n",
    "\n",
    "Subsets of data from the head or tail of the dataset can be helpful."
   ]
  },
  {
   "cell_type": "code",
   "execution_count": 6,
   "metadata": {
    "colab": {
     "base_uri": "https://localhost:8080/",
     "height": 449
    },
    "colab_type": "code",
    "id": "D8ZA1ghXGNAS",
    "outputId": "5b9bc6a3-2302-409e-8683-dd7171650bfd"
   },
   "outputs": [
    {
     "name": "stdout",
     "output_type": "stream",
     "text": [
      "      crim    zn  indus  chas    nox     rm    age     dis  rad    tax  \\\n",
      "0  0.00632  18.0   2.31   0.0  0.538  6.575   65.2  4.0900  1.0  296.0   \n",
      "1  0.02731   0.0   7.07   0.0  0.469  6.421   78.9  4.9671  2.0  242.0   \n",
      "2  0.02729   0.0   7.07   0.0  0.469  7.185   61.1  4.9671  2.0  242.0   \n",
      "3  0.03237   0.0   2.18   0.0  0.458  6.998   45.8  6.0622  3.0  222.0   \n",
      "4  0.06905   0.0   2.18   0.0  0.458  7.147   54.2  6.0622  3.0  222.0   \n",
      "5  0.02985   0.0   2.18   0.0  0.458  6.430   58.7  6.0622  3.0  222.0   \n",
      "6  0.08829  12.5   7.87   0.0  0.524  6.012   66.6  5.5605  5.0  311.0   \n",
      "7  0.14455  12.5   7.87   0.0  0.524  6.172   96.1  5.9505  5.0  311.0   \n",
      "8  0.21124  12.5   7.87   0.0  0.524  5.631  100.0  6.0821  5.0  311.0   \n",
      "9  0.17004  12.5   7.87   0.0  0.524  6.004   85.9  6.5921  5.0  311.0   \n",
      "\n",
      "   ptratio       b  lstat  medv  \n",
      "0     15.3  396.90   4.98  24.0  \n",
      "1     17.8  396.90   9.14  21.6  \n",
      "2     17.8  392.83   4.03  34.7  \n",
      "3     18.7  394.63   2.94  33.4  \n",
      "4     18.7  396.90   5.33  36.2  \n",
      "5     18.7  394.12   5.21  28.7  \n",
      "6     15.2  395.60  12.43  22.9  \n",
      "7     15.2  396.90  19.15  27.1  \n",
      "8     15.2  386.63  29.93  16.5  \n",
      "9     15.2  386.71  17.10  18.9  \n",
      "\n",
      "The first column lists the row number, which is handy for referencing a specific observation.\n"
     ]
    }
   ],
   "source": [
    "peek = data.head(10)\n",
    "print(peek)\n",
    "print()\n",
    "print(\"The first column lists the row number, which is handy for referencing a specific observation.\")"
   ]
  },
  {
   "cell_type": "markdown",
   "metadata": {
    "colab_type": "text",
    "id": "SEPARsYEJrnn"
   },
   "source": [
    "#### Data Type For Each Attribute\n",
    "\n",
    "It's important to know the column attributes, since string values may need to be converted to floating point values or integers to represent categorical or ordinal values. If all of them are numbers they will still need to be standardised or normalised.\n",
    "\n",
    "_Best to list all the attributes of the dataset._"
   ]
  },
  {
   "cell_type": "code",
   "execution_count": 7,
   "metadata": {
    "colab": {
     "base_uri": "https://localhost:8080/",
     "height": 276
    },
    "colab_type": "code",
    "id": "icXl0KwkK7tD",
    "outputId": "1f71680a-67ba-458a-801b-06aa2597df48"
   },
   "outputs": [
    {
     "name": "stdout",
     "output_type": "stream",
     "text": [
      "crim       float64\n",
      "zn         float64\n",
      "indus      float64\n",
      "chas       float64\n",
      "nox        float64\n",
      "rm         float64\n",
      "age        float64\n",
      "dis        float64\n",
      "rad        float64\n",
      "tax        float64\n",
      "ptratio    float64\n",
      "b          float64\n",
      "lstat      float64\n",
      "medv       float64\n",
      "dtype: object\n"
     ]
    }
   ],
   "source": [
    "types = data.dtypes\n",
    "print(types)"
   ]
  },
  {
   "cell_type": "markdown",
   "metadata": {
    "colab_type": "text",
    "id": "SEPARsYEJrnn"
   },
   "source": [
    "> We have only numeric data, and should not have missing data (with NaN)"
   ]
  },
  {
   "cell_type": "markdown",
   "metadata": {
    "colab_type": "text",
    "id": "gceJJYXTt5Y9"
   },
   "source": [
    "#### Other attributes of the data\n"
   ]
  },
  {
   "cell_type": "code",
   "execution_count": 8,
   "metadata": {
    "colab": {
     "base_uri": "https://localhost:8080/",
     "height": 259
    },
    "colab_type": "code",
    "id": "ZUKegv0nt8bD",
    "outputId": "96510943-7e23-4ea8-9cdf-27ecdf92bb29"
   },
   "outputs": [
    {
     "name": "stdout",
     "output_type": "stream",
     "text": [
      "Names of columns Index(['crim', 'zn', 'indus', 'chas', 'nox', 'rm', 'age', 'dis', 'rad', 'tax',\n",
      "       'ptratio', 'b', 'lstat', 'medv'],\n",
      "      dtype='object')\n",
      "\n",
      "Overview of values as an array [[6.3200e-03 1.8000e+01 2.3100e+00 ... 3.9690e+02 4.9800e+00 2.4000e+01]\n",
      " [2.7310e-02 0.0000e+00 7.0700e+00 ... 3.9690e+02 9.1400e+00 2.1600e+01]\n",
      " [2.7290e-02 0.0000e+00 7.0700e+00 ... 3.9283e+02 4.0300e+00 3.4700e+01]\n",
      " ...\n",
      " [3.3147e-01 0.0000e+00 6.2000e+00 ... 3.7895e+02 3.9500e+00 4.8300e+01]\n",
      " [5.3720e-02 0.0000e+00 1.3920e+01 ... 3.9285e+02 7.3900e+00 2.7100e+01]\n",
      " [4.4620e-02 2.5000e+01 4.8600e+00 ... 3.9563e+02 7.2200e+00 2.3900e+01]]\n",
      "\n"
     ]
    }
   ],
   "source": [
    "print(\"Names of columns\", data.columns)   # column names (which is “an index”)\n",
    "print()\n",
    "print(\"Overview of values as an array\", data.values)    # underlying numpy array — df are stored as numpy arrays for effeciencies.\n",
    "print()"
   ]
  },
  {
   "cell_type": "markdown",
   "metadata": {
    "colab_type": "text",
    "id": "kP4yEElUGNhi"
   },
   "source": [
    "### Check descriptive statistics [DEMO - WALKTHRU]"
   ]
  },
  {
   "cell_type": "markdown",
   "metadata": {
    "colab_type": "text",
    "id": "0_xLQ4EMLJxn"
   },
   "source": [
    "Descriptive statistics can give you great insight into the shape of each attribute.\n",
    "\n",
    " -  Count\n",
    " -  Mean\n",
    " -  Standard Devaition\n",
    " -  Minimum Value\n",
    " -  25th Percentile\n",
    " -  50th Percentile (Median)\n",
    " -  75th Percentile\n",
    " -  Maximum Value"
   ]
  },
  {
   "cell_type": "code",
   "execution_count": 9,
   "metadata": {
    "colab": {
     "base_uri": "https://localhost:8080/",
     "height": 340
    },
    "colab_type": "code",
    "id": "VTwnUrMVLBss",
    "outputId": "b953f349-ddcf-48fa-dc77-19ff03a1034e"
   },
   "outputs": [
    {
     "name": "stdout",
     "output_type": "stream",
     "text": [
      "\n",
      "It is worth taking some time and reviewing observations from the results.\n",
      "This might include the presence of “NA” values for missing data or surprising distributions for attributes.\n"
     ]
    },
    {
     "data": {
      "text/html": [
       "<div>\n",
       "<style scoped>\n",
       "    .dataframe tbody tr th:only-of-type {\n",
       "        vertical-align: middle;\n",
       "    }\n",
       "\n",
       "    .dataframe tbody tr th {\n",
       "        vertical-align: top;\n",
       "    }\n",
       "\n",
       "    .dataframe thead th {\n",
       "        text-align: right;\n",
       "    }\n",
       "</style>\n",
       "<table border=\"1\" class=\"dataframe\">\n",
       "  <thead>\n",
       "    <tr style=\"text-align: right;\">\n",
       "      <th></th>\n",
       "      <th>crim</th>\n",
       "      <th>zn</th>\n",
       "      <th>indus</th>\n",
       "      <th>chas</th>\n",
       "      <th>nox</th>\n",
       "      <th>rm</th>\n",
       "      <th>age</th>\n",
       "      <th>dis</th>\n",
       "      <th>rad</th>\n",
       "      <th>tax</th>\n",
       "      <th>ptratio</th>\n",
       "      <th>b</th>\n",
       "      <th>lstat</th>\n",
       "      <th>medv</th>\n",
       "    </tr>\n",
       "  </thead>\n",
       "  <tbody>\n",
       "    <tr>\n",
       "      <th>count</th>\n",
       "      <td>554.000</td>\n",
       "      <td>561.000</td>\n",
       "      <td>606.000</td>\n",
       "      <td>555.000</td>\n",
       "      <td>606.000</td>\n",
       "      <td>606.000</td>\n",
       "      <td>587.000</td>\n",
       "      <td>606.000</td>\n",
       "      <td>572.000</td>\n",
       "      <td>588.000</td>\n",
       "      <td>606.000</td>\n",
       "      <td>606.000</td>\n",
       "      <td>606.000</td>\n",
       "      <td>606.000</td>\n",
       "    </tr>\n",
       "    <tr>\n",
       "      <th>mean</th>\n",
       "      <td>3.480</td>\n",
       "      <td>12.059</td>\n",
       "      <td>11.007</td>\n",
       "      <td>0.070</td>\n",
       "      <td>0.554</td>\n",
       "      <td>6.303</td>\n",
       "      <td>68.375</td>\n",
       "      <td>3.827</td>\n",
       "      <td>9.376</td>\n",
       "      <td>409.168</td>\n",
       "      <td>18.423</td>\n",
       "      <td>355.647</td>\n",
       "      <td>12.562</td>\n",
       "      <td>22.652</td>\n",
       "    </tr>\n",
       "    <tr>\n",
       "      <th>std</th>\n",
       "      <td>8.325</td>\n",
       "      <td>24.199</td>\n",
       "      <td>6.855</td>\n",
       "      <td>0.256</td>\n",
       "      <td>0.116</td>\n",
       "      <td>0.717</td>\n",
       "      <td>28.347</td>\n",
       "      <td>2.137</td>\n",
       "      <td>8.610</td>\n",
       "      <td>168.146</td>\n",
       "      <td>2.174</td>\n",
       "      <td>91.318</td>\n",
       "      <td>7.117</td>\n",
       "      <td>9.429</td>\n",
       "    </tr>\n",
       "    <tr>\n",
       "      <th>min</th>\n",
       "      <td>0.006</td>\n",
       "      <td>0.000</td>\n",
       "      <td>0.460</td>\n",
       "      <td>0.000</td>\n",
       "      <td>0.385</td>\n",
       "      <td>3.561</td>\n",
       "      <td>2.900</td>\n",
       "      <td>1.130</td>\n",
       "      <td>1.000</td>\n",
       "      <td>187.000</td>\n",
       "      <td>12.600</td>\n",
       "      <td>0.320</td>\n",
       "      <td>1.730</td>\n",
       "      <td>5.000</td>\n",
       "    </tr>\n",
       "    <tr>\n",
       "      <th>25%</th>\n",
       "      <td>0.080</td>\n",
       "      <td>0.000</td>\n",
       "      <td>5.130</td>\n",
       "      <td>0.000</td>\n",
       "      <td>0.448</td>\n",
       "      <td>5.888</td>\n",
       "      <td>42.700</td>\n",
       "      <td>2.111</td>\n",
       "      <td>4.000</td>\n",
       "      <td>281.000</td>\n",
       "      <td>17.000</td>\n",
       "      <td>374.590</td>\n",
       "      <td>6.877</td>\n",
       "      <td>16.700</td>\n",
       "    </tr>\n",
       "    <tr>\n",
       "      <th>50%</th>\n",
       "      <td>0.254</td>\n",
       "      <td>0.000</td>\n",
       "      <td>8.560</td>\n",
       "      <td>0.000</td>\n",
       "      <td>0.532</td>\n",
       "      <td>6.229</td>\n",
       "      <td>77.700</td>\n",
       "      <td>3.216</td>\n",
       "      <td>5.000</td>\n",
       "      <td>330.000</td>\n",
       "      <td>19.000</td>\n",
       "      <td>391.240</td>\n",
       "      <td>11.265</td>\n",
       "      <td>21.200</td>\n",
       "    </tr>\n",
       "    <tr>\n",
       "      <th>75%</th>\n",
       "      <td>3.520</td>\n",
       "      <td>18.000</td>\n",
       "      <td>18.100</td>\n",
       "      <td>0.000</td>\n",
       "      <td>0.624</td>\n",
       "      <td>6.630</td>\n",
       "      <td>94.050</td>\n",
       "      <td>5.245</td>\n",
       "      <td>24.000</td>\n",
       "      <td>666.000</td>\n",
       "      <td>20.200</td>\n",
       "      <td>396.060</td>\n",
       "      <td>16.718</td>\n",
       "      <td>25.175</td>\n",
       "    </tr>\n",
       "    <tr>\n",
       "      <th>max</th>\n",
       "      <td>88.976</td>\n",
       "      <td>100.000</td>\n",
       "      <td>27.740</td>\n",
       "      <td>1.000</td>\n",
       "      <td>0.871</td>\n",
       "      <td>8.780</td>\n",
       "      <td>100.000</td>\n",
       "      <td>12.127</td>\n",
       "      <td>24.000</td>\n",
       "      <td>711.000</td>\n",
       "      <td>22.000</td>\n",
       "      <td>396.900</td>\n",
       "      <td>37.970</td>\n",
       "      <td>50.000</td>\n",
       "    </tr>\n",
       "  </tbody>\n",
       "</table>\n",
       "</div>"
      ],
      "text/plain": [
       "          crim       zn    indus     chas      nox       rm      age      dis      rad      tax  \\\n",
       "count  554.000  561.000  606.000  555.000  606.000  606.000  587.000  606.000  572.000  588.000   \n",
       "mean     3.480   12.059   11.007    0.070    0.554    6.303   68.375    3.827    9.376  409.168   \n",
       "std      8.325   24.199    6.855    0.256    0.116    0.717   28.347    2.137    8.610  168.146   \n",
       "min      0.006    0.000    0.460    0.000    0.385    3.561    2.900    1.130    1.000  187.000   \n",
       "25%      0.080    0.000    5.130    0.000    0.448    5.888   42.700    2.111    4.000  281.000   \n",
       "50%      0.254    0.000    8.560    0.000    0.532    6.229   77.700    3.216    5.000  330.000   \n",
       "75%      3.520   18.000   18.100    0.000    0.624    6.630   94.050    5.245   24.000  666.000   \n",
       "max     88.976  100.000   27.740    1.000    0.871    8.780  100.000   12.127   24.000  711.000   \n",
       "\n",
       "       ptratio        b    lstat     medv  \n",
       "count  606.000  606.000  606.000  606.000  \n",
       "mean    18.423  355.647   12.562   22.652  \n",
       "std      2.174   91.318    7.117    9.429  \n",
       "min     12.600    0.320    1.730    5.000  \n",
       "25%     17.000  374.590    6.877   16.700  \n",
       "50%     19.000  391.240   11.265   21.200  \n",
       "75%     20.200  396.060   16.718   25.175  \n",
       "max     22.000  396.900   37.970   50.000  "
      ]
     },
     "execution_count": 9,
     "metadata": {},
     "output_type": "execute_result"
    }
   ],
   "source": [
    "pd.set_option('display.width', 100)\n",
    "pd.set_option('precision', 3)\n",
    "print()\n",
    "print(\"It is worth taking some time and reviewing observations from the results.\")\n",
    "print(\"This might include the presence of “NA” values for missing data or surprising distributions for attributes.\")\n",
    "data.describe()"
   ]
  },
  {
   "cell_type": "markdown",
   "metadata": {
    "colab_type": "text",
    "id": "0_xLQ4EMLJxn"
   },
   "source": [
    ">>\n",
    "- crim zn have a negatively skewed distribution while b has positively skewed distribution\n",
    "- crim zn age  are indeed percentages from 0 to 100\n"
   ]
  },
  {
   "cell_type": "markdown",
   "metadata": {
    "colab_type": "text",
    "id": "deGhLNUXGP4l"
   },
   "source": [
    "### Plot distribution of features [DEMO - WALKTHRU]"
   ]
  },
  {
   "cell_type": "code",
   "execution_count": 10,
   "metadata": {
    "colab": {
     "base_uri": "https://localhost:8080/",
     "height": 879
    },
    "colab_type": "code",
    "id": "ywZiOeaxMLPi",
    "outputId": "05a31b9b-a357-415c-cbb0-11e1ec26a568"
   },
   "outputs": [
    {
     "name": "stderr",
     "output_type": "stream",
     "text": [
      "/home/jeremie/.local/lib/python3.6/site-packages/numpy/lib/histograms.py:824: RuntimeWarning: invalid value encountered in greater_equal\n",
      "  keep = (tmp_a >= first_edge)\n",
      "/home/jeremie/.local/lib/python3.6/site-packages/numpy/lib/histograms.py:825: RuntimeWarning: invalid value encountered in less_equal\n",
      "  keep &= (tmp_a <= last_edge)\n"
     ]
    },
    {
     "data": {
      "image/png": "[encoded data removed]",
      "text/plain": [
       "<Figure size 1080x1080 with 14 Axes>"
      ]
     },
     "metadata": {
      "needs_background": "light"
     },
     "output_type": "display_data"
    }
   ],
   "source": [
    "plot_index=1\n",
    "max_plots=4\n",
    "for column in data.columns: \n",
    "    axes = plt.subplot(4, max_plots, plot_index)\n",
    "    axes.set_title('Distribution of '+ column)\n",
    "    axes.figure.set_figheight(15)\n",
    "    axes.figure.set_figwidth(15)\n",
    "    axes.figure.set_tight_layout(False)\n",
    "    plt.hist(data[column],bins=20)\n",
    "    plot_index=plot_index+1"
   ]
  },
  {
   "cell_type": "markdown",
   "metadata": {},
   "source": [
    ">>\n",
    "- the gaps in rad, tax are surprising. are they related ? far away castles ?\n",
    "- confirmations on distributions observed previously\n",
    "- most suburbs have no criminality, that's reassuring!"
   ]
  },
  {
   "cell_type": "markdown",
   "metadata": {
    "colab_type": "text",
    "id": "VT1bz5R_Jzrf"
   },
   "source": [
    "#### Class Distribution (Classification Only)\n",
    "On classification problems you need to know how balanced the class values are."
   ]
  },
  {
   "cell_type": "code",
   "execution_count": 11,
   "metadata": {},
   "outputs": [
    {
     "data": {
      "text/html": [
       "<div>\n",
       "<style scoped>\n",
       "    .dataframe tbody tr th:only-of-type {\n",
       "        vertical-align: middle;\n",
       "    }\n",
       "\n",
       "    .dataframe tbody tr th {\n",
       "        vertical-align: top;\n",
       "    }\n",
       "\n",
       "    .dataframe thead th {\n",
       "        text-align: right;\n",
       "    }\n",
       "</style>\n",
       "<table border=\"1\" class=\"dataframe\">\n",
       "  <thead>\n",
       "    <tr style=\"text-align: right;\">\n",
       "      <th></th>\n",
       "      <th>crim</th>\n",
       "      <th>zn</th>\n",
       "      <th>indus</th>\n",
       "      <th>chas</th>\n",
       "      <th>nox</th>\n",
       "      <th>rm</th>\n",
       "      <th>age</th>\n",
       "      <th>dis</th>\n",
       "      <th>rad</th>\n",
       "      <th>tax</th>\n",
       "      <th>ptratio</th>\n",
       "      <th>b</th>\n",
       "      <th>lstat</th>\n",
       "      <th>medv</th>\n",
       "    </tr>\n",
       "  </thead>\n",
       "  <tbody>\n",
       "    <tr>\n",
       "      <th>0</th>\n",
       "      <td>0.006</td>\n",
       "      <td>18.0</td>\n",
       "      <td>2.31</td>\n",
       "      <td>0.0</td>\n",
       "      <td>0.538</td>\n",
       "      <td>6.575</td>\n",
       "      <td>65.2</td>\n",
       "      <td>4.090</td>\n",
       "      <td>1.0</td>\n",
       "      <td>296.0</td>\n",
       "      <td>15.3</td>\n",
       "      <td>396.90</td>\n",
       "      <td>4.98</td>\n",
       "      <td>24.0</td>\n",
       "    </tr>\n",
       "    <tr>\n",
       "      <th>1</th>\n",
       "      <td>0.027</td>\n",
       "      <td>0.0</td>\n",
       "      <td>7.07</td>\n",
       "      <td>0.0</td>\n",
       "      <td>0.469</td>\n",
       "      <td>6.421</td>\n",
       "      <td>78.9</td>\n",
       "      <td>4.967</td>\n",
       "      <td>2.0</td>\n",
       "      <td>242.0</td>\n",
       "      <td>17.8</td>\n",
       "      <td>396.90</td>\n",
       "      <td>9.14</td>\n",
       "      <td>21.6</td>\n",
       "    </tr>\n",
       "    <tr>\n",
       "      <th>2</th>\n",
       "      <td>0.027</td>\n",
       "      <td>0.0</td>\n",
       "      <td>7.07</td>\n",
       "      <td>0.0</td>\n",
       "      <td>0.469</td>\n",
       "      <td>7.185</td>\n",
       "      <td>61.1</td>\n",
       "      <td>4.967</td>\n",
       "      <td>2.0</td>\n",
       "      <td>242.0</td>\n",
       "      <td>17.8</td>\n",
       "      <td>392.83</td>\n",
       "      <td>4.03</td>\n",
       "      <td>34.7</td>\n",
       "    </tr>\n",
       "    <tr>\n",
       "      <th>3</th>\n",
       "      <td>0.032</td>\n",
       "      <td>0.0</td>\n",
       "      <td>2.18</td>\n",
       "      <td>0.0</td>\n",
       "      <td>0.458</td>\n",
       "      <td>6.998</td>\n",
       "      <td>45.8</td>\n",
       "      <td>6.062</td>\n",
       "      <td>3.0</td>\n",
       "      <td>222.0</td>\n",
       "      <td>18.7</td>\n",
       "      <td>394.63</td>\n",
       "      <td>2.94</td>\n",
       "      <td>33.4</td>\n",
       "    </tr>\n",
       "    <tr>\n",
       "      <th>4</th>\n",
       "      <td>0.069</td>\n",
       "      <td>0.0</td>\n",
       "      <td>2.18</td>\n",
       "      <td>0.0</td>\n",
       "      <td>0.458</td>\n",
       "      <td>7.147</td>\n",
       "      <td>54.2</td>\n",
       "      <td>6.062</td>\n",
       "      <td>3.0</td>\n",
       "      <td>222.0</td>\n",
       "      <td>18.7</td>\n",
       "      <td>396.90</td>\n",
       "      <td>5.33</td>\n",
       "      <td>36.2</td>\n",
       "    </tr>\n",
       "  </tbody>\n",
       "</table>\n",
       "</div>"
      ],
      "text/plain": [
       "    crim    zn  indus  chas    nox     rm   age    dis  rad    tax  ptratio       b  lstat  medv\n",
       "0  0.006  18.0   2.31   0.0  0.538  6.575  65.2  4.090  1.0  296.0     15.3  396.90   4.98  24.0\n",
       "1  0.027   0.0   7.07   0.0  0.469  6.421  78.9  4.967  2.0  242.0     17.8  396.90   9.14  21.6\n",
       "2  0.027   0.0   7.07   0.0  0.469  7.185  61.1  4.967  2.0  242.0     17.8  392.83   4.03  34.7\n",
       "3  0.032   0.0   2.18   0.0  0.458  6.998  45.8  6.062  3.0  222.0     18.7  394.63   2.94  33.4\n",
       "4  0.069   0.0   2.18   0.0  0.458  7.147  54.2  6.062  3.0  222.0     18.7  396.90   5.33  36.2"
      ]
     },
     "execution_count": 11,
     "metadata": {},
     "output_type": "execute_result"
    }
   ],
   "source": [
    "data.head()"
   ]
  },
  {
   "cell_type": "code",
   "execution_count": 24,
   "metadata": {
    "colab": {
     "base_uri": "https://localhost:8080/",
     "height": 315
    },
    "colab_type": "code",
    "id": "xHnP9jgUhIOT",
    "outputId": "ec16639d-48b8-4ea8-d4be-954b55393ed4"
   },
   "outputs": [
    {
     "data": {
      "image/png": "[encoded data removed]",
      "text/plain": [
       "<Figure size 432x288 with 1 Axes>"
      ]
     },
     "metadata": {
      "needs_background": "light"
     },
     "output_type": "display_data"
    },
    {
     "name": "stdout",
     "output_type": "stream",
     "text": [
      "\n",
      "We see a nice clustering of instances into two groups.\n",
      "One group between 'rad' index range of 1 and 8, and a second group at 24.\n",
      "From the map it appears that the houses bounded by the river may not have immediate access to the radial highways.\n",
      "This is an interesting subject for further analysis.\n"
     ]
    }
   ],
   "source": [
    "class_counts = pd.value_counts(data[\"rad\"])\n",
    "# print(class_counts)\n",
    "plt.hist(data[\"rad\"], bins=25)\n",
    "plt.title('Index of accessibility to radial highways')\n",
    "plt.show()\n",
    "\n",
    "print()\n",
    "print(\"We see a nice clustering of instances into two groups.\")\n",
    "print(\"One group between 'rad' index range of 1 and 8, and a second group at 24.\")\n",
    "print(\"From the map it appears that the houses bounded by the river may not have immediate access to the radial highways.\")\n",
    "print(\"This is an interesting subject for further analysis.\")"
   ]
  },
  {
   "cell_type": "markdown",
   "metadata": {
    "colab_type": "text",
    "id": "Cj7QdCNBCMgv"
   },
   "source": [
    "#### Histogram for numeric data"
   ]
  },
  {
   "cell_type": "code",
   "execution_count": 13,
   "metadata": {
    "colab": {
     "base_uri": "https://localhost:8080/",
     "height": 545
    },
    "colab_type": "code",
    "id": "dlP3QegQK2Vx",
    "outputId": "dad6b6d5-eb59-4e95-cf65-b2a17838b4b5"
   },
   "outputs": [
    {
     "data": {
      "image/png": "[encoded data removed]",
      "text/plain": [
       "<Figure size 432x288 with 1 Axes>"
      ]
     },
     "metadata": {
      "needs_background": "light"
     },
     "output_type": "display_data"
    },
    {
     "data": {
      "image/png": "[encoded data removed]",
      "text/plain": [
       "<Figure size 432x288 with 1 Axes>"
      ]
     },
     "metadata": {
      "needs_background": "light"
     },
     "output_type": "display_data"
    }
   ],
   "source": [
    "# we can plot a histogram in a slightly different way \n",
    "plt.hist(data[\"medv\"], bins = 40)\n",
    "plt.title('Housing price distribution, $K')\n",
    "plt.show()\n",
    "\n",
    "# and the same for the boxplot\n",
    "plt.boxplot(data[\"medv\"])\n",
    "plt.title('Box plot for housing price.')\n",
    "plt.show()"
   ]
  },
  {
   "cell_type": "markdown",
   "metadata": {
    "colab_type": "text",
    "id": "-nVr8U6BCUzN"
   },
   "source": [
    "#### Bar chart for categories"
   ]
  },
  {
   "cell_type": "code",
   "execution_count": 14,
   "metadata": {
    "colab": {
     "base_uri": "https://localhost:8080/",
     "height": 35
    },
    "colab_type": "code",
    "id": "pYYVUcw3LpCQ",
    "outputId": "ca090c63-bc36-459e-f158-bb2757b4f93c"
   },
   "outputs": [
    {
     "name": "stdout",
     "output_type": "stream",
     "text": [
      "515\n",
      "0.0    516\n",
      "1.0     39\n",
      "Name: chas, dtype: int64\n"
     ]
    },
    {
     "data": {
      "image/png": "[encoded data removed]",
      "text/plain": [
       "<Figure size 432x288 with 1 Axes>"
      ]
     },
     "metadata": {
      "needs_background": "light"
     },
     "output_type": "display_data"
    }
   ],
   "source": [
    "print(data[data[\"chas\"] == 0].count()[0])\n",
    "\n",
    "class_counts = pd.value_counts(data[\"chas\"])\n",
    "print(class_counts)\n",
    "labels=[\"Not bounded by Charles River \\n (0 = otherwise)\", \"Bounded by Charles River \\n (1 = track bounds)\", ]\n",
    "plt.bar(labels, class_counts)\n",
    "plt.title('Number of houses')\n",
    "plt.show()"
   ]
  },
  {
   "cell_type": "markdown",
   "metadata": {
    "colab_type": "text",
    "id": "J80xth2b3aYU"
   },
   "source": [
    "#### Box whisker / violin plots for category data vs numeric"
   ]
  },
  {
   "cell_type": "code",
   "execution_count": 15,
   "metadata": {
    "colab": {
     "base_uri": "https://localhost:8080/",
     "height": 3708
    },
    "colab_type": "code",
    "id": "6In-5FowMQft",
    "outputId": "b22a84c9-3daf-4c47-f0a1-af9714e806c2"
   },
   "outputs": [
    {
     "data": {
      "image/png": "[encoded data removed]",
      "text/plain": [
       "<Figure size 504x288 with 2 Axes>"
      ]
     },
     "metadata": {
      "needs_background": "light"
     },
     "output_type": "display_data"
    },
    {
     "data": {
      "image/png": "[encoded data removed]",
      "text/plain": [
       "<Figure size 504x288 with 2 Axes>"
      ]
     },
     "metadata": {
      "needs_background": "light"
     },
     "output_type": "display_data"
    },
    {
     "data": {
      "image/png": "[encoded data removed]",
      "text/plain": [
       "<Figure size 504x288 with 2 Axes>"
      ]
     },
     "metadata": {
      "needs_background": "light"
     },
     "output_type": "display_data"
    },
    {
     "data": {
      "image/png": "[encoded data removed]",
      "text/plain": [
       "<Figure size 504x288 with 2 Axes>"
      ]
     },
     "metadata": {
      "needs_background": "light"
     },
     "output_type": "display_data"
    },
    {
     "data": {
      "image/png": "[encoded data removed]",
      "text/plain": [
       "<Figure size 504x288 with 2 Axes>"
      ]
     },
     "metadata": {
      "needs_background": "light"
     },
     "output_type": "display_data"
    },
    {
     "data": {
      "image/png": "[encoded data removed]",
      "text/plain": [
       "<Figure size 504x288 with 2 Axes>"
      ]
     },
     "metadata": {
      "needs_background": "light"
     },
     "output_type": "display_data"
    },
    {
     "data": {
      "image/png": "[encoded data removed]",
      "text/plain": [
       "<Figure size 504x288 with 2 Axes>"
      ]
     },
     "metadata": {
      "needs_background": "light"
     },
     "output_type": "display_data"
    },
    {
     "data": {
      "image/png": "[encoded data removed]",
      "text/plain": [
       "<Figure size 504x288 with 2 Axes>"
      ]
     },
     "metadata": {
      "needs_background": "light"
     },
     "output_type": "display_data"
    },
    {
     "data": {
      "image/png": "[encoded data removed]",
      "text/plain": [
       "<Figure size 504x288 with 2 Axes>"
      ]
     },
     "metadata": {
      "needs_background": "light"
     },
     "output_type": "display_data"
    },
    {
     "data": {
      "image/png": "[encoded data removed]",
      "text/plain": [
       "<Figure size 504x288 with 2 Axes>"
      ]
     },
     "metadata": {
      "needs_background": "light"
     },
     "output_type": "display_data"
    },
    {
     "data": {
      "image/png": "[encoded data removed]",
      "text/plain": [
       "<Figure size 504x288 with 2 Axes>"
      ]
     },
     "metadata": {
      "needs_background": "light"
     },
     "output_type": "display_data"
    },
    {
     "data": {
      "image/png": "[encoded data removed]",
      "text/plain": [
       "<Figure size 504x288 with 2 Axes>"
      ]
     },
     "metadata": {
      "needs_background": "light"
     },
     "output_type": "display_data"
    },
    {
     "data": {
      "image/png": "[encoded data removed]",
      "text/plain": [
       "<Figure size 504x288 with 2 Axes>"
      ]
     },
     "metadata": {
      "needs_background": "light"
     },
     "output_type": "display_data"
    },
    {
     "data": {
      "image/png": "[encoded data removed]",
      "text/plain": [
       "<Figure size 504x288 with 2 Axes>"
      ]
     },
     "metadata": {
      "needs_background": "light"
     },
     "output_type": "display_data"
    }
   ],
   "source": [
    "# we loop through all the columns\n",
    "for col in data.columns:\n",
    "    # and for each column we create space for one row with 2 charts \n",
    "    f, axes = plt.subplots(1, 2, figsize=(7, 4))\n",
    "    # our first chart is a histogram and we set the title \n",
    "    data[col].hist(bins = 30, ax = axes[0])\n",
    "    axes[0].set_title('Distribution of '+ col)\n",
    "    # our second column is the boxplot \n",
    "    data.boxplot(column = col, ax = axes[1])\n",
    "    # we then use this to command to display the charts\n",
    "    plt.show()"
   ]
  },
  {
   "cell_type": "markdown",
   "metadata": {
    "colab_type": "text",
    "id": "sAgs5coRGSQO"
   },
   "source": [
    "### Check correlations"
   ]
  },
  {
   "cell_type": "markdown",
   "metadata": {
    "colab_type": "text",
    "id": "l4YVL-p43VKq"
   },
   "source": [
    "#### Scatter charts for numeric data [DEMO - WALKTHRU]"
   ]
  },
  {
   "cell_type": "code",
   "execution_count": 16,
   "metadata": {
    "colab": {
     "base_uri": "https://localhost:8080/",
     "height": 879
    },
    "colab_type": "code",
    "id": "ywZiOeaxMLPi",
    "outputId": "05a31b9b-a357-415c-cbb0-11e1ec26a568"
   },
   "outputs": [
    {
     "data": {
      "image/png": "[encoded data removed]",
      "text/plain": [
       "<Figure size 1080x1080 with 13 Axes>"
      ]
     },
     "metadata": {
      "needs_background": "light"
     },
     "output_type": "display_data"
    }
   ],
   "source": [
    "plot_index=1\n",
    "max_plots=4\n",
    "for column in data.columns: \n",
    "  if column != \"medv\":\n",
    "      axes = plt.subplot(4, max_plots, plot_index)\n",
    "      axes.set_title('Distribution of '+ column + \" v/s medv\")\n",
    "      axes.figure.set_figheight(15)\n",
    "      axes.figure.set_figwidth(15)\n",
    "      axes.figure.set_tight_layout(False)\n",
    "      plt.scatter(data[column], data[\"medv\"], marker='o')\n",
    "      plot_index=plot_index+1"
   ]
  },
  {
   "cell_type": "markdown",
   "metadata": {},
   "source": [
    ">>\n",
    "we can already see multiple obvious correlations between each feature and the price.\n",
    "\n",
    ">>\n",
    "some linear:\n",
    "- nb of rooms\n",
    "\n",
    ">>\n",
    "more complex:\n",
    "- criminality \n",
    "- proportion of non retail businesses\n",
    "- percentage of lower status of the population\n",
    "\n",
    ">> \n",
    "some with no correlation:\n",
    "- age: proportion of owner occupied units built prior to 1940\n",
    "- rad: index of accessibility to radial highways\n",
    ">>\n",
    "etc"
   ]
  },
  {
   "cell_type": "markdown",
   "metadata": {
    "colab_type": "text",
    "id": "Ck3LgHNHKCf5"
   },
   "source": [
    "#### Correlation Between Attributes [DEMO - WALKTHRU]\n",
    "\n",
    "Correlation refers to the relationship between two variables and how they may or may not change together."
   ]
  },
  {
   "cell_type": "code",
   "execution_count": 17,
   "metadata": {
    "colab": {
     "base_uri": "https://localhost:8080/",
     "height": 1014
    },
    "colab_type": "code",
    "id": "Ps3O65S9hzwn",
    "outputId": "4dfb4962-6f30-43c2-e6cb-483aa365535b"
   },
   "outputs": [
    {
     "name": "stdout",
     "output_type": "stream",
     "text": [
      "          crim     zn  indus       chas    nox     rm    age    dis        rad    tax  ptratio  \\\n",
      "crim     1.000 -0.202  0.414 -5.020e-02  0.426 -0.231  0.354 -0.382  6.295e-01  0.588    0.292   \n",
      "zn      -0.202  1.000 -0.541 -5.647e-02 -0.523  0.304 -0.574  0.681 -3.160e-01 -0.320   -0.406   \n",
      "indus    0.414 -0.541  1.000  8.199e-02  0.775 -0.397  0.654 -0.713  5.989e-01  0.728    0.394   \n",
      "chas    -0.050 -0.056  0.082  1.000e+00  0.113  0.100  0.109 -0.119  2.582e-04 -0.023   -0.128   \n",
      "nox      0.426 -0.523  0.775  1.126e-01  1.000 -0.311  0.738 -0.768  6.032e-01  0.677    0.214   \n",
      "rm      -0.231  0.304 -0.397  1.000e-01 -0.311  1.000 -0.254  0.204 -2.264e-01 -0.300   -0.375   \n",
      "age      0.354 -0.574  0.654  1.086e-01  0.738 -0.254  1.000 -0.756  4.543e-01  0.515    0.287   \n",
      "dis     -0.382  0.681 -0.713 -1.188e-01 -0.768  0.204 -0.756  1.000 -4.954e-01 -0.540   -0.253   \n",
      "rad      0.629 -0.316  0.599  2.582e-04  0.603 -0.226  0.454 -0.495  1.000e+00  0.912    0.459   \n",
      "tax      0.588 -0.320  0.728 -2.305e-02  0.677 -0.300  0.515 -0.540  9.116e-01  1.000    0.466   \n",
      "ptratio  0.292 -0.406  0.394 -1.283e-01  0.214 -0.375  0.287 -0.253  4.594e-01  0.466    1.000   \n",
      "b       -0.383  0.176 -0.364  5.524e-02 -0.381  0.142 -0.279  0.289 -4.431e-01 -0.447   -0.194   \n",
      "lstat    0.458 -0.404  0.607 -5.084e-02  0.598 -0.621  0.606 -0.494  4.847e-01  0.548    0.395   \n",
      "medv    -0.380  0.343 -0.481  1.854e-01 -0.429  0.715 -0.385  0.239 -3.663e-01 -0.464   -0.514   \n",
      "\n",
      "             b  lstat   medv  \n",
      "crim    -0.383  0.458 -0.380  \n",
      "zn       0.176 -0.404  0.343  \n",
      "indus   -0.364  0.607 -0.481  \n",
      "chas     0.055 -0.051  0.185  \n",
      "nox     -0.381  0.598 -0.429  \n",
      "rm       0.142 -0.621  0.715  \n",
      "age     -0.279  0.606 -0.385  \n",
      "dis      0.289 -0.494  0.239  \n",
      "rad     -0.443  0.485 -0.366  \n",
      "tax     -0.447  0.548 -0.464  \n",
      "ptratio -0.194  0.395 -0.514  \n",
      "b        1.000 -0.370  0.339  \n",
      "lstat   -0.370  1.000 -0.746  \n",
      "medv     0.339 -0.746  1.000  \n",
      "\n",
      "A correlation of -1 or 1 shows a full negative (inverse) or positive (direct) correlation respectively.\n",
      "A value of 0 shows no correlation at all.\n"
     ]
    },
    {
     "data": {
      "text/plain": [
       "<matplotlib.axes._subplots.AxesSubplot at 0x7f0ec708e518>"
      ]
     },
     "execution_count": 17,
     "metadata": {},
     "output_type": "execute_result"
    },
    {
     "data": {
      "image/png": "[encoded data removed]",
      "text/plain": [
       "<Figure size 720x720 with 2 Axes>"
      ]
     },
     "metadata": {
      "needs_background": "light"
     },
     "output_type": "display_data"
    }
   ],
   "source": [
    "# Pairwise Pearson correlations\n",
    "pd.set_option('display.width', 100)\n",
    "pd.set_option('precision', 3)\n",
    "correlations = data.corr(method='pearson')\n",
    "print(correlations)\n",
    "print()\n",
    "print(\"A correlation of -1 or 1 shows a full negative (inverse) or positive (direct) correlation respectively.\") \n",
    "print(\"A value of 0 shows no correlation at all.\")\n",
    "\n",
    "# Generate a mask for the upper triangle\n",
    "mask = np.zeros_like(correlations, dtype=np.bool)\n",
    "mask[np.triu_indices_from(mask)] = True\n",
    "\n",
    "# Set up the matplotlib figure\n",
    "f, ax = plt.subplots(figsize=(10, 10));\n",
    "\n",
    "# Generate a custom diverging colormap\n",
    "cmap = sns.diverging_palette(220, 10, as_cmap=True)\n",
    "\n",
    "# Draw the heatmap with the mask and correct aspect ratio\n",
    "sns.heatmap(correlations, mask=mask, cmap=cmap, vmax=.3, center=0,\n",
    "            square=True, linewidths=.5, cbar_kws={\"shrink\": .5},annot=True)\n",
    "# correlation_matrix = boston.corr().round(2)\n",
    "# annot = True to print the values inside the square\n",
    "# sns.heatmap(correlations, annot=True,mask=mask, cmap=cmap)"
   ]
  },
  {
   "cell_type": "markdown",
   "metadata": {},
   "source": [
    "The features with high correlations should not be used together in case of some models (linear regression): dis and nox, tax and rad "
   ]
  },
  {
   "cell_type": "markdown",
   "metadata": {
    "colab_type": "text",
    "id": "kP4yEElUGNhi"
   },
   "source": [
    "### Find issues"
   ]
  },
  {
   "cell_type": "markdown",
   "metadata": {
    "colab_type": "text",
    "id": "l6m_cfK5vGnx"
   },
   "source": [
    "#### Count missing values\n",
    "\n",
    "Count the number of missing values across all the columns"
   ]
  },
  {
   "cell_type": "code",
   "execution_count": 18,
   "metadata": {
    "colab": {
     "base_uri": "https://localhost:8080/",
     "height": 276
    },
    "colab_type": "code",
    "id": "v3hUAuKfvIVu",
    "outputId": "c7cc3999-eec1-4ef4-8b15-e3eeea38038e"
   },
   "outputs": [
    {
     "data": {
      "image/png": "[encoded data removed]",
      "text/plain": [
       "<Figure size 432x288 with 1 Axes>"
      ]
     },
     "metadata": {
      "needs_background": "light"
     },
     "output_type": "display_data"
    }
   ],
   "source": [
    "total_rows = data.shape[0]\n",
    "total_rows_without_missing_values = data.count()\n",
    "missing_values_count=(total_rows - total_rows_without_missing_values)\n",
    "\n",
    "plt.barh(data.columns, missing_values_count)\n",
    "plt.title(\"Number of rows with missing values\")\n",
    "plt.show()"
   ]
  },
  {
   "cell_type": "markdown",
   "metadata": {
    "colab_type": "text",
    "id": "Vr0i_CVsxayx"
   },
   "source": [
    "#### Count occurrence of values per column\n",
    "\n",
    "Count the number times each value in a column is occurring across the whole dataset"
   ]
  },
  {
   "cell_type": "code",
   "execution_count": 19,
   "metadata": {
    "colab": {
     "base_uri": "https://localhost:8080/",
     "height": 298
    },
    "colab_type": "code",
    "id": "d_WR90enxZ4N",
    "outputId": "247b919d-ac56-469f-a1e5-2bfbee48dc20"
   },
   "outputs": [
    {
     "data": {
      "image/png": "[encoded data removed]",
      "text/plain": [
       "<Figure size 432x288 with 1 Axes>"
      ]
     },
     "metadata": {
      "needs_background": "light"
     },
     "output_type": "display_data"
    },
    {
     "name": "stdout",
     "output_type": "stream",
     "text": [
      "Print the count for other columns as well, maybe even plot them on a bar chart / histogram\n"
     ]
    }
   ],
   "source": [
    "plt.hist(data[\"crim\"], bins = 10)\n",
    "plt.title('Criminality distribution, (occurence)')\n",
    "plt.show()\n",
    "\n",
    "print(\"Print the count for other columns as well, maybe even plot them on a bar chart / histogram\")"
   ]
  },
  {
   "cell_type": "markdown",
   "metadata": {
    "colab_type": "text",
    "id": "H6NPZJIOymvv"
   },
   "source": [
    "#### Count number of unique values per column\n",
    "\n",
    "Count the number unique values in a column occurring across the whole dataset"
   ]
  },
  {
   "cell_type": "code",
   "execution_count": 20,
   "metadata": {
    "colab": {
     "base_uri": "https://localhost:8080/",
     "height": 35
    },
    "colab_type": "code",
    "id": "AmRnU3S-ymXJ",
    "outputId": "7fbded71-863e-488d-bba3-91544dba4e29"
   },
   "outputs": [
    {
     "data": {
      "text/plain": [
       "46"
      ]
     },
     "execution_count": 20,
     "metadata": {},
     "output_type": "execute_result"
    }
   ],
   "source": [
    "data.ptratio.nunique()"
   ]
  },
  {
   "cell_type": "markdown",
   "metadata": {
    "colab_type": "text",
    "id": "Rca8_2uzzMNM"
   },
   "source": [
    "#### Duplicated rows\n",
    "Get stats on the number of non-unqiue or duplicate rows in a dataset"
   ]
  },
  {
   "cell_type": "code",
   "execution_count": 21,
   "metadata": {
    "colab": {
     "base_uri": "https://localhost:8080/",
     "height": 65
    },
    "colab_type": "code",
    "id": "1BfB2BiU7aRH",
    "outputId": "c8834de3-0a64-439b-e1ce-aabec84dd1f6"
   },
   "outputs": [
    {
     "name": "stdout",
     "output_type": "stream",
     "text": [
      "% of duplicated rows to total rows in the dataset: 8.25082508250825\n",
      "\n"
     ]
    },
    {
     "data": {
      "image/png": "[encoded data removed]",
      "text/plain": [
       "<Figure size 432x288 with 1 Axes>"
      ]
     },
     "metadata": {
      "needs_background": "light"
     },
     "output_type": "display_data"
    },
    {
     "data": {
      "text/html": [
       "<div>\n",
       "<style scoped>\n",
       "    .dataframe tbody tr th:only-of-type {\n",
       "        vertical-align: middle;\n",
       "    }\n",
       "\n",
       "    .dataframe tbody tr th {\n",
       "        vertical-align: top;\n",
       "    }\n",
       "\n",
       "    .dataframe thead th {\n",
       "        text-align: right;\n",
       "    }\n",
       "</style>\n",
       "<table border=\"1\" class=\"dataframe\">\n",
       "  <thead>\n",
       "    <tr style=\"text-align: right;\">\n",
       "      <th></th>\n",
       "      <th>crim</th>\n",
       "      <th>zn</th>\n",
       "      <th>indus</th>\n",
       "      <th>chas</th>\n",
       "      <th>nox</th>\n",
       "      <th>rm</th>\n",
       "      <th>age</th>\n",
       "      <th>dis</th>\n",
       "      <th>rad</th>\n",
       "      <th>tax</th>\n",
       "      <th>ptratio</th>\n",
       "      <th>b</th>\n",
       "      <th>lstat</th>\n",
       "      <th>medv</th>\n",
       "    </tr>\n",
       "  </thead>\n",
       "  <tbody>\n",
       "    <tr>\n",
       "      <th>114</th>\n",
       "      <td>0.142</td>\n",
       "      <td>0.0</td>\n",
       "      <td>10.01</td>\n",
       "      <td>0.0</td>\n",
       "      <td>0.547</td>\n",
       "      <td>6.254</td>\n",
       "      <td>84.2</td>\n",
       "      <td>2.256</td>\n",
       "      <td>6.0</td>\n",
       "      <td>432.0</td>\n",
       "      <td>17.8</td>\n",
       "      <td>388.74</td>\n",
       "      <td>10.45</td>\n",
       "      <td>18.5</td>\n",
       "    </tr>\n",
       "    <tr>\n",
       "      <th>25</th>\n",
       "      <td>0.841</td>\n",
       "      <td>0.0</td>\n",
       "      <td>8.14</td>\n",
       "      <td>0.0</td>\n",
       "      <td>0.538</td>\n",
       "      <td>5.599</td>\n",
       "      <td>85.7</td>\n",
       "      <td>4.455</td>\n",
       "      <td>4.0</td>\n",
       "      <td>307.0</td>\n",
       "      <td>21.0</td>\n",
       "      <td>303.42</td>\n",
       "      <td>16.51</td>\n",
       "      <td>13.9</td>\n",
       "    </tr>\n",
       "    <tr>\n",
       "      <th>281</th>\n",
       "      <td>0.037</td>\n",
       "      <td>20.0</td>\n",
       "      <td>3.33</td>\n",
       "      <td>0.0</td>\n",
       "      <td>0.443</td>\n",
       "      <td>6.968</td>\n",
       "      <td>37.2</td>\n",
       "      <td>5.245</td>\n",
       "      <td>5.0</td>\n",
       "      <td>216.0</td>\n",
       "      <td>14.9</td>\n",
       "      <td>392.23</td>\n",
       "      <td>4.59</td>\n",
       "      <td>35.4</td>\n",
       "    </tr>\n",
       "    <tr>\n",
       "      <th>250</th>\n",
       "      <td>0.140</td>\n",
       "      <td>22.0</td>\n",
       "      <td>5.86</td>\n",
       "      <td>0.0</td>\n",
       "      <td>0.431</td>\n",
       "      <td>6.487</td>\n",
       "      <td>13.0</td>\n",
       "      <td>7.397</td>\n",
       "      <td>7.0</td>\n",
       "      <td>330.0</td>\n",
       "      <td>19.1</td>\n",
       "      <td>396.28</td>\n",
       "      <td>5.90</td>\n",
       "      <td>24.4</td>\n",
       "    </tr>\n",
       "    <tr>\n",
       "      <th>228</th>\n",
       "      <td>0.298</td>\n",
       "      <td>0.0</td>\n",
       "      <td>6.20</td>\n",
       "      <td>0.0</td>\n",
       "      <td>0.504</td>\n",
       "      <td>7.686</td>\n",
       "      <td>17.0</td>\n",
       "      <td>3.375</td>\n",
       "      <td>8.0</td>\n",
       "      <td>307.0</td>\n",
       "      <td>17.4</td>\n",
       "      <td>377.51</td>\n",
       "      <td>3.92</td>\n",
       "      <td>46.7</td>\n",
       "    </tr>\n",
       "    <tr>\n",
       "      <th>142</th>\n",
       "      <td>3.321</td>\n",
       "      <td>0.0</td>\n",
       "      <td>19.58</td>\n",
       "      <td>1.0</td>\n",
       "      <td>0.871</td>\n",
       "      <td>5.403</td>\n",
       "      <td>100.0</td>\n",
       "      <td>1.322</td>\n",
       "      <td>5.0</td>\n",
       "      <td>403.0</td>\n",
       "      <td>14.7</td>\n",
       "      <td>396.90</td>\n",
       "      <td>26.82</td>\n",
       "      <td>13.4</td>\n",
       "    </tr>\n",
       "    <tr>\n",
       "      <th>104</th>\n",
       "      <td>0.140</td>\n",
       "      <td>0.0</td>\n",
       "      <td>8.56</td>\n",
       "      <td>0.0</td>\n",
       "      <td>0.520</td>\n",
       "      <td>6.167</td>\n",
       "      <td>90.0</td>\n",
       "      <td>2.421</td>\n",
       "      <td>5.0</td>\n",
       "      <td>384.0</td>\n",
       "      <td>20.9</td>\n",
       "      <td>392.69</td>\n",
       "      <td>12.33</td>\n",
       "      <td>20.1</td>\n",
       "    </tr>\n",
       "    <tr>\n",
       "      <th>89</th>\n",
       "      <td>0.053</td>\n",
       "      <td>0.0</td>\n",
       "      <td>3.41</td>\n",
       "      <td>0.0</td>\n",
       "      <td>0.489</td>\n",
       "      <td>7.079</td>\n",
       "      <td>63.1</td>\n",
       "      <td>3.414</td>\n",
       "      <td>2.0</td>\n",
       "      <td>270.0</td>\n",
       "      <td>17.8</td>\n",
       "      <td>396.06</td>\n",
       "      <td>5.70</td>\n",
       "      <td>28.7</td>\n",
       "    </tr>\n",
       "    <tr>\n",
       "      <th>432</th>\n",
       "      <td>6.444</td>\n",
       "      <td>0.0</td>\n",
       "      <td>18.10</td>\n",
       "      <td>0.0</td>\n",
       "      <td>0.584</td>\n",
       "      <td>6.425</td>\n",
       "      <td>74.8</td>\n",
       "      <td>2.200</td>\n",
       "      <td>24.0</td>\n",
       "      <td>666.0</td>\n",
       "      <td>20.2</td>\n",
       "      <td>97.95</td>\n",
       "      <td>12.03</td>\n",
       "      <td>16.1</td>\n",
       "    </tr>\n",
       "    <tr>\n",
       "      <th>32</th>\n",
       "      <td>1.388</td>\n",
       "      <td>0.0</td>\n",
       "      <td>8.14</td>\n",
       "      <td>0.0</td>\n",
       "      <td>0.538</td>\n",
       "      <td>5.950</td>\n",
       "      <td>82.0</td>\n",
       "      <td>3.990</td>\n",
       "      <td>4.0</td>\n",
       "      <td>307.0</td>\n",
       "      <td>21.0</td>\n",
       "      <td>232.60</td>\n",
       "      <td>27.71</td>\n",
       "      <td>13.2</td>\n",
       "    </tr>\n",
       "    <tr>\n",
       "      <th>30</th>\n",
       "      <td>1.131</td>\n",
       "      <td>0.0</td>\n",
       "      <td>8.14</td>\n",
       "      <td>0.0</td>\n",
       "      <td>0.538</td>\n",
       "      <td>5.713</td>\n",
       "      <td>94.1</td>\n",
       "      <td>4.233</td>\n",
       "      <td>4.0</td>\n",
       "      <td>307.0</td>\n",
       "      <td>21.0</td>\n",
       "      <td>360.17</td>\n",
       "      <td>22.60</td>\n",
       "      <td>12.7</td>\n",
       "    </tr>\n",
       "    <tr>\n",
       "      <th>95</th>\n",
       "      <td>0.122</td>\n",
       "      <td>0.0</td>\n",
       "      <td>2.89</td>\n",
       "      <td>0.0</td>\n",
       "      <td>0.445</td>\n",
       "      <td>6.625</td>\n",
       "      <td>57.8</td>\n",
       "      <td>3.495</td>\n",
       "      <td>2.0</td>\n",
       "      <td>276.0</td>\n",
       "      <td>18.0</td>\n",
       "      <td>357.98</td>\n",
       "      <td>6.65</td>\n",
       "      <td>28.4</td>\n",
       "    </tr>\n",
       "    <tr>\n",
       "      <th>223</th>\n",
       "      <td>0.615</td>\n",
       "      <td>0.0</td>\n",
       "      <td>6.20</td>\n",
       "      <td>0.0</td>\n",
       "      <td>0.507</td>\n",
       "      <td>6.618</td>\n",
       "      <td>80.8</td>\n",
       "      <td>3.272</td>\n",
       "      <td>8.0</td>\n",
       "      <td>307.0</td>\n",
       "      <td>17.4</td>\n",
       "      <td>396.90</td>\n",
       "      <td>7.60</td>\n",
       "      <td>30.1</td>\n",
       "    </tr>\n",
       "    <tr>\n",
       "      <th>238</th>\n",
       "      <td>0.082</td>\n",
       "      <td>30.0</td>\n",
       "      <td>4.93</td>\n",
       "      <td>0.0</td>\n",
       "      <td>0.428</td>\n",
       "      <td>6.481</td>\n",
       "      <td>18.5</td>\n",
       "      <td>6.190</td>\n",
       "      <td>6.0</td>\n",
       "      <td>300.0</td>\n",
       "      <td>16.6</td>\n",
       "      <td>379.41</td>\n",
       "      <td>6.36</td>\n",
       "      <td>23.7</td>\n",
       "    </tr>\n",
       "    <tr>\n",
       "      <th>333</th>\n",
       "      <td>NaN</td>\n",
       "      <td>NaN</td>\n",
       "      <td>5.19</td>\n",
       "      <td>NaN</td>\n",
       "      <td>0.515</td>\n",
       "      <td>6.316</td>\n",
       "      <td>38.1</td>\n",
       "      <td>6.458</td>\n",
       "      <td>5.0</td>\n",
       "      <td>NaN</td>\n",
       "      <td>20.2</td>\n",
       "      <td>389.71</td>\n",
       "      <td>5.68</td>\n",
       "      <td>22.2</td>\n",
       "    </tr>\n",
       "    <tr>\n",
       "      <th>27</th>\n",
       "      <td>0.956</td>\n",
       "      <td>0.0</td>\n",
       "      <td>8.14</td>\n",
       "      <td>0.0</td>\n",
       "      <td>0.538</td>\n",
       "      <td>6.047</td>\n",
       "      <td>88.8</td>\n",
       "      <td>4.453</td>\n",
       "      <td>4.0</td>\n",
       "      <td>307.0</td>\n",
       "      <td>21.0</td>\n",
       "      <td>306.38</td>\n",
       "      <td>17.28</td>\n",
       "      <td>14.8</td>\n",
       "    </tr>\n",
       "    <tr>\n",
       "      <th>203</th>\n",
       "      <td>0.035</td>\n",
       "      <td>95.0</td>\n",
       "      <td>2.68</td>\n",
       "      <td>0.0</td>\n",
       "      <td>0.416</td>\n",
       "      <td>7.853</td>\n",
       "      <td>33.2</td>\n",
       "      <td>5.118</td>\n",
       "      <td>4.0</td>\n",
       "      <td>224.0</td>\n",
       "      <td>14.7</td>\n",
       "      <td>392.78</td>\n",
       "      <td>3.81</td>\n",
       "      <td>48.5</td>\n",
       "    </tr>\n",
       "    <tr>\n",
       "      <th>429</th>\n",
       "      <td>9.339</td>\n",
       "      <td>0.0</td>\n",
       "      <td>18.10</td>\n",
       "      <td>0.0</td>\n",
       "      <td>0.679</td>\n",
       "      <td>6.380</td>\n",
       "      <td>95.6</td>\n",
       "      <td>1.968</td>\n",
       "      <td>24.0</td>\n",
       "      <td>666.0</td>\n",
       "      <td>20.2</td>\n",
       "      <td>60.72</td>\n",
       "      <td>24.08</td>\n",
       "      <td>9.5</td>\n",
       "    </tr>\n",
       "    <tr>\n",
       "      <th>225</th>\n",
       "      <td>0.527</td>\n",
       "      <td>0.0</td>\n",
       "      <td>6.20</td>\n",
       "      <td>0.0</td>\n",
       "      <td>0.504</td>\n",
       "      <td>8.725</td>\n",
       "      <td>83.0</td>\n",
       "      <td>2.894</td>\n",
       "      <td>8.0</td>\n",
       "      <td>307.0</td>\n",
       "      <td>17.4</td>\n",
       "      <td>382.00</td>\n",
       "      <td>4.63</td>\n",
       "      <td>50.0</td>\n",
       "    </tr>\n",
       "    <tr>\n",
       "      <th>459</th>\n",
       "      <td>6.801</td>\n",
       "      <td>0.0</td>\n",
       "      <td>18.10</td>\n",
       "      <td>0.0</td>\n",
       "      <td>0.713</td>\n",
       "      <td>6.081</td>\n",
       "      <td>84.4</td>\n",
       "      <td>2.717</td>\n",
       "      <td>24.0</td>\n",
       "      <td>666.0</td>\n",
       "      <td>20.2</td>\n",
       "      <td>396.90</td>\n",
       "      <td>14.70</td>\n",
       "      <td>20.0</td>\n",
       "    </tr>\n",
       "    <tr>\n",
       "      <th>284</th>\n",
       "      <td>0.009</td>\n",
       "      <td>90.0</td>\n",
       "      <td>2.97</td>\n",
       "      <td>0.0</td>\n",
       "      <td>0.400</td>\n",
       "      <td>7.088</td>\n",
       "      <td>20.8</td>\n",
       "      <td>7.307</td>\n",
       "      <td>1.0</td>\n",
       "      <td>285.0</td>\n",
       "      <td>15.3</td>\n",
       "      <td>394.72</td>\n",
       "      <td>7.85</td>\n",
       "      <td>32.2</td>\n",
       "    </tr>\n",
       "    <tr>\n",
       "      <th>6</th>\n",
       "      <td>0.088</td>\n",
       "      <td>12.5</td>\n",
       "      <td>7.87</td>\n",
       "      <td>0.0</td>\n",
       "      <td>0.524</td>\n",
       "      <td>6.012</td>\n",
       "      <td>66.6</td>\n",
       "      <td>5.561</td>\n",
       "      <td>5.0</td>\n",
       "      <td>311.0</td>\n",
       "      <td>15.2</td>\n",
       "      <td>395.60</td>\n",
       "      <td>12.43</td>\n",
       "      <td>22.9</td>\n",
       "    </tr>\n",
       "    <tr>\n",
       "      <th>163</th>\n",
       "      <td>1.519</td>\n",
       "      <td>0.0</td>\n",
       "      <td>19.58</td>\n",
       "      <td>1.0</td>\n",
       "      <td>0.605</td>\n",
       "      <td>8.375</td>\n",
       "      <td>93.9</td>\n",
       "      <td>2.162</td>\n",
       "      <td>5.0</td>\n",
       "      <td>403.0</td>\n",
       "      <td>14.7</td>\n",
       "      <td>388.45</td>\n",
       "      <td>3.32</td>\n",
       "      <td>50.0</td>\n",
       "    </tr>\n",
       "    <tr>\n",
       "      <th>432</th>\n",
       "      <td>6.444</td>\n",
       "      <td>0.0</td>\n",
       "      <td>18.10</td>\n",
       "      <td>0.0</td>\n",
       "      <td>0.584</td>\n",
       "      <td>6.425</td>\n",
       "      <td>74.8</td>\n",
       "      <td>2.200</td>\n",
       "      <td>24.0</td>\n",
       "      <td>666.0</td>\n",
       "      <td>20.2</td>\n",
       "      <td>97.95</td>\n",
       "      <td>12.03</td>\n",
       "      <td>16.1</td>\n",
       "    </tr>\n",
       "    <tr>\n",
       "      <th>348</th>\n",
       "      <td>0.015</td>\n",
       "      <td>80.0</td>\n",
       "      <td>2.01</td>\n",
       "      <td>0.0</td>\n",
       "      <td>0.435</td>\n",
       "      <td>6.635</td>\n",
       "      <td>29.7</td>\n",
       "      <td>8.344</td>\n",
       "      <td>4.0</td>\n",
       "      <td>280.0</td>\n",
       "      <td>17.0</td>\n",
       "      <td>390.94</td>\n",
       "      <td>5.99</td>\n",
       "      <td>24.5</td>\n",
       "    </tr>\n",
       "    <tr>\n",
       "      <th>284</th>\n",
       "      <td>0.009</td>\n",
       "      <td>90.0</td>\n",
       "      <td>2.97</td>\n",
       "      <td>0.0</td>\n",
       "      <td>0.400</td>\n",
       "      <td>7.088</td>\n",
       "      <td>20.8</td>\n",
       "      <td>7.307</td>\n",
       "      <td>1.0</td>\n",
       "      <td>285.0</td>\n",
       "      <td>15.3</td>\n",
       "      <td>394.72</td>\n",
       "      <td>7.85</td>\n",
       "      <td>32.2</td>\n",
       "    </tr>\n",
       "    <tr>\n",
       "      <th>159</th>\n",
       "      <td>1.425</td>\n",
       "      <td>0.0</td>\n",
       "      <td>19.58</td>\n",
       "      <td>0.0</td>\n",
       "      <td>0.871</td>\n",
       "      <td>6.510</td>\n",
       "      <td>100.0</td>\n",
       "      <td>1.766</td>\n",
       "      <td>5.0</td>\n",
       "      <td>403.0</td>\n",
       "      <td>14.7</td>\n",
       "      <td>364.31</td>\n",
       "      <td>7.39</td>\n",
       "      <td>23.3</td>\n",
       "    </tr>\n",
       "    <tr>\n",
       "      <th>220</th>\n",
       "      <td>0.358</td>\n",
       "      <td>0.0</td>\n",
       "      <td>6.20</td>\n",
       "      <td>1.0</td>\n",
       "      <td>0.507</td>\n",
       "      <td>6.951</td>\n",
       "      <td>88.5</td>\n",
       "      <td>2.862</td>\n",
       "      <td>8.0</td>\n",
       "      <td>307.0</td>\n",
       "      <td>17.4</td>\n",
       "      <td>391.70</td>\n",
       "      <td>9.71</td>\n",
       "      <td>26.7</td>\n",
       "    </tr>\n",
       "    <tr>\n",
       "      <th>344</th>\n",
       "      <td>0.030</td>\n",
       "      <td>55.0</td>\n",
       "      <td>3.78</td>\n",
       "      <td>0.0</td>\n",
       "      <td>0.484</td>\n",
       "      <td>6.874</td>\n",
       "      <td>28.1</td>\n",
       "      <td>6.465</td>\n",
       "      <td>5.0</td>\n",
       "      <td>370.0</td>\n",
       "      <td>17.6</td>\n",
       "      <td>387.97</td>\n",
       "      <td>4.61</td>\n",
       "      <td>31.2</td>\n",
       "    </tr>\n",
       "    <tr>\n",
       "      <th>104</th>\n",
       "      <td>0.140</td>\n",
       "      <td>0.0</td>\n",
       "      <td>8.56</td>\n",
       "      <td>0.0</td>\n",
       "      <td>0.520</td>\n",
       "      <td>6.167</td>\n",
       "      <td>90.0</td>\n",
       "      <td>2.421</td>\n",
       "      <td>5.0</td>\n",
       "      <td>384.0</td>\n",
       "      <td>20.9</td>\n",
       "      <td>392.69</td>\n",
       "      <td>12.33</td>\n",
       "      <td>20.1</td>\n",
       "    </tr>\n",
       "    <tr>\n",
       "      <th>94</th>\n",
       "      <td>0.043</td>\n",
       "      <td>28.0</td>\n",
       "      <td>15.04</td>\n",
       "      <td>0.0</td>\n",
       "      <td>0.464</td>\n",
       "      <td>6.249</td>\n",
       "      <td>77.3</td>\n",
       "      <td>3.615</td>\n",
       "      <td>4.0</td>\n",
       "      <td>270.0</td>\n",
       "      <td>18.2</td>\n",
       "      <td>396.90</td>\n",
       "      <td>10.59</td>\n",
       "      <td>20.6</td>\n",
       "    </tr>\n",
       "    <tr>\n",
       "      <th>389</th>\n",
       "      <td>8.152</td>\n",
       "      <td>0.0</td>\n",
       "      <td>18.10</td>\n",
       "      <td>0.0</td>\n",
       "      <td>0.700</td>\n",
       "      <td>5.390</td>\n",
       "      <td>98.9</td>\n",
       "      <td>1.728</td>\n",
       "      <td>24.0</td>\n",
       "      <td>666.0</td>\n",
       "      <td>20.2</td>\n",
       "      <td>396.90</td>\n",
       "      <td>20.85</td>\n",
       "      <td>11.5</td>\n",
       "    </tr>\n",
       "    <tr>\n",
       "      <th>99</th>\n",
       "      <td>0.069</td>\n",
       "      <td>0.0</td>\n",
       "      <td>2.89</td>\n",
       "      <td>0.0</td>\n",
       "      <td>0.445</td>\n",
       "      <td>7.416</td>\n",
       "      <td>62.5</td>\n",
       "      <td>3.495</td>\n",
       "      <td>2.0</td>\n",
       "      <td>276.0</td>\n",
       "      <td>18.0</td>\n",
       "      <td>396.90</td>\n",
       "      <td>6.19</td>\n",
       "      <td>33.2</td>\n",
       "    </tr>\n",
       "    <tr>\n",
       "      <th>367</th>\n",
       "      <td>13.522</td>\n",
       "      <td>0.0</td>\n",
       "      <td>18.10</td>\n",
       "      <td>0.0</td>\n",
       "      <td>0.631</td>\n",
       "      <td>3.863</td>\n",
       "      <td>100.0</td>\n",
       "      <td>1.511</td>\n",
       "      <td>24.0</td>\n",
       "      <td>666.0</td>\n",
       "      <td>20.2</td>\n",
       "      <td>131.42</td>\n",
       "      <td>13.33</td>\n",
       "      <td>23.1</td>\n",
       "    </tr>\n",
       "    <tr>\n",
       "      <th>352</th>\n",
       "      <td>0.072</td>\n",
       "      <td>60.0</td>\n",
       "      <td>1.69</td>\n",
       "      <td>0.0</td>\n",
       "      <td>0.411</td>\n",
       "      <td>5.884</td>\n",
       "      <td>18.5</td>\n",
       "      <td>10.710</td>\n",
       "      <td>4.0</td>\n",
       "      <td>411.0</td>\n",
       "      <td>18.3</td>\n",
       "      <td>392.33</td>\n",
       "      <td>7.79</td>\n",
       "      <td>18.6</td>\n",
       "    </tr>\n",
       "    <tr>\n",
       "      <th>270</th>\n",
       "      <td>0.299</td>\n",
       "      <td>20.0</td>\n",
       "      <td>6.96</td>\n",
       "      <td>0.0</td>\n",
       "      <td>0.464</td>\n",
       "      <td>5.856</td>\n",
       "      <td>42.1</td>\n",
       "      <td>4.429</td>\n",
       "      <td>3.0</td>\n",
       "      <td>223.0</td>\n",
       "      <td>18.6</td>\n",
       "      <td>388.65</td>\n",
       "      <td>13.00</td>\n",
       "      <td>21.1</td>\n",
       "    </tr>\n",
       "    <tr>\n",
       "      <th>44</th>\n",
       "      <td>0.123</td>\n",
       "      <td>0.0</td>\n",
       "      <td>6.91</td>\n",
       "      <td>0.0</td>\n",
       "      <td>0.448</td>\n",
       "      <td>6.069</td>\n",
       "      <td>40.0</td>\n",
       "      <td>5.721</td>\n",
       "      <td>3.0</td>\n",
       "      <td>233.0</td>\n",
       "      <td>17.9</td>\n",
       "      <td>389.39</td>\n",
       "      <td>9.55</td>\n",
       "      <td>21.2</td>\n",
       "    </tr>\n",
       "    <tr>\n",
       "      <th>470</th>\n",
       "      <td>4.349</td>\n",
       "      <td>0.0</td>\n",
       "      <td>18.10</td>\n",
       "      <td>0.0</td>\n",
       "      <td>0.580</td>\n",
       "      <td>6.167</td>\n",
       "      <td>84.0</td>\n",
       "      <td>3.033</td>\n",
       "      <td>24.0</td>\n",
       "      <td>666.0</td>\n",
       "      <td>20.2</td>\n",
       "      <td>396.90</td>\n",
       "      <td>16.29</td>\n",
       "      <td>19.9</td>\n",
       "    </tr>\n",
       "    <tr>\n",
       "      <th>286</th>\n",
       "      <td>NaN</td>\n",
       "      <td>80.0</td>\n",
       "      <td>1.76</td>\n",
       "      <td>NaN</td>\n",
       "      <td>0.385</td>\n",
       "      <td>6.230</td>\n",
       "      <td>NaN</td>\n",
       "      <td>9.089</td>\n",
       "      <td>NaN</td>\n",
       "      <td>241.0</td>\n",
       "      <td>18.2</td>\n",
       "      <td>341.60</td>\n",
       "      <td>12.93</td>\n",
       "      <td>20.1</td>\n",
       "    </tr>\n",
       "    <tr>\n",
       "      <th>127</th>\n",
       "      <td>0.259</td>\n",
       "      <td>0.0</td>\n",
       "      <td>21.89</td>\n",
       "      <td>0.0</td>\n",
       "      <td>0.624</td>\n",
       "      <td>5.693</td>\n",
       "      <td>96.0</td>\n",
       "      <td>1.788</td>\n",
       "      <td>4.0</td>\n",
       "      <td>437.0</td>\n",
       "      <td>21.2</td>\n",
       "      <td>392.11</td>\n",
       "      <td>17.19</td>\n",
       "      <td>16.2</td>\n",
       "    </tr>\n",
       "    <tr>\n",
       "      <th>387</th>\n",
       "      <td>22.597</td>\n",
       "      <td>0.0</td>\n",
       "      <td>18.10</td>\n",
       "      <td>0.0</td>\n",
       "      <td>0.700</td>\n",
       "      <td>5.000</td>\n",
       "      <td>89.5</td>\n",
       "      <td>1.518</td>\n",
       "      <td>24.0</td>\n",
       "      <td>666.0</td>\n",
       "      <td>20.2</td>\n",
       "      <td>396.90</td>\n",
       "      <td>31.99</td>\n",
       "      <td>7.4</td>\n",
       "    </tr>\n",
       "    <tr>\n",
       "      <th>80</th>\n",
       "      <td>0.041</td>\n",
       "      <td>25.0</td>\n",
       "      <td>4.86</td>\n",
       "      <td>0.0</td>\n",
       "      <td>0.426</td>\n",
       "      <td>6.727</td>\n",
       "      <td>33.5</td>\n",
       "      <td>5.401</td>\n",
       "      <td>4.0</td>\n",
       "      <td>281.0</td>\n",
       "      <td>19.0</td>\n",
       "      <td>396.90</td>\n",
       "      <td>5.29</td>\n",
       "      <td>28.0</td>\n",
       "    </tr>\n",
       "    <tr>\n",
       "      <th>300</th>\n",
       "      <td>0.044</td>\n",
       "      <td>70.0</td>\n",
       "      <td>2.24</td>\n",
       "      <td>0.0</td>\n",
       "      <td>0.400</td>\n",
       "      <td>6.871</td>\n",
       "      <td>47.4</td>\n",
       "      <td>7.828</td>\n",
       "      <td>5.0</td>\n",
       "      <td>358.0</td>\n",
       "      <td>14.8</td>\n",
       "      <td>390.86</td>\n",
       "      <td>6.07</td>\n",
       "      <td>24.8</td>\n",
       "    </tr>\n",
       "    <tr>\n",
       "      <th>370</th>\n",
       "      <td>6.539</td>\n",
       "      <td>0.0</td>\n",
       "      <td>18.10</td>\n",
       "      <td>1.0</td>\n",
       "      <td>0.631</td>\n",
       "      <td>7.016</td>\n",
       "      <td>97.5</td>\n",
       "      <td>1.202</td>\n",
       "      <td>24.0</td>\n",
       "      <td>666.0</td>\n",
       "      <td>20.2</td>\n",
       "      <td>392.05</td>\n",
       "      <td>2.96</td>\n",
       "      <td>50.0</td>\n",
       "    </tr>\n",
       "    <tr>\n",
       "      <th>196</th>\n",
       "      <td>0.040</td>\n",
       "      <td>80.0</td>\n",
       "      <td>1.52</td>\n",
       "      <td>0.0</td>\n",
       "      <td>0.404</td>\n",
       "      <td>7.287</td>\n",
       "      <td>34.1</td>\n",
       "      <td>7.309</td>\n",
       "      <td>2.0</td>\n",
       "      <td>329.0</td>\n",
       "      <td>12.6</td>\n",
       "      <td>396.90</td>\n",
       "      <td>4.08</td>\n",
       "      <td>33.3</td>\n",
       "    </tr>\n",
       "    <tr>\n",
       "      <th>71</th>\n",
       "      <td>0.159</td>\n",
       "      <td>0.0</td>\n",
       "      <td>10.81</td>\n",
       "      <td>0.0</td>\n",
       "      <td>0.413</td>\n",
       "      <td>5.961</td>\n",
       "      <td>17.5</td>\n",
       "      <td>5.287</td>\n",
       "      <td>4.0</td>\n",
       "      <td>305.0</td>\n",
       "      <td>19.2</td>\n",
       "      <td>376.94</td>\n",
       "      <td>9.88</td>\n",
       "      <td>21.7</td>\n",
       "    </tr>\n",
       "    <tr>\n",
       "      <th>46</th>\n",
       "      <td>0.188</td>\n",
       "      <td>0.0</td>\n",
       "      <td>6.91</td>\n",
       "      <td>0.0</td>\n",
       "      <td>0.448</td>\n",
       "      <td>5.786</td>\n",
       "      <td>33.3</td>\n",
       "      <td>5.100</td>\n",
       "      <td>3.0</td>\n",
       "      <td>233.0</td>\n",
       "      <td>17.9</td>\n",
       "      <td>396.90</td>\n",
       "      <td>14.15</td>\n",
       "      <td>20.0</td>\n",
       "    </tr>\n",
       "    <tr>\n",
       "      <th>233</th>\n",
       "      <td>0.331</td>\n",
       "      <td>0.0</td>\n",
       "      <td>6.20</td>\n",
       "      <td>0.0</td>\n",
       "      <td>0.507</td>\n",
       "      <td>8.247</td>\n",
       "      <td>70.4</td>\n",
       "      <td>3.652</td>\n",
       "      <td>8.0</td>\n",
       "      <td>307.0</td>\n",
       "      <td>17.4</td>\n",
       "      <td>378.95</td>\n",
       "      <td>3.95</td>\n",
       "      <td>48.3</td>\n",
       "    </tr>\n",
       "    <tr>\n",
       "      <th>296</th>\n",
       "      <td>0.054</td>\n",
       "      <td>0.0</td>\n",
       "      <td>13.92</td>\n",
       "      <td>0.0</td>\n",
       "      <td>0.437</td>\n",
       "      <td>6.549</td>\n",
       "      <td>51.0</td>\n",
       "      <td>5.960</td>\n",
       "      <td>4.0</td>\n",
       "      <td>289.0</td>\n",
       "      <td>16.0</td>\n",
       "      <td>392.85</td>\n",
       "      <td>7.39</td>\n",
       "      <td>27.1</td>\n",
       "    </tr>\n",
       "    <tr>\n",
       "      <th>81</th>\n",
       "      <td>0.045</td>\n",
       "      <td>25.0</td>\n",
       "      <td>4.86</td>\n",
       "      <td>0.0</td>\n",
       "      <td>0.426</td>\n",
       "      <td>6.619</td>\n",
       "      <td>70.4</td>\n",
       "      <td>5.401</td>\n",
       "      <td>4.0</td>\n",
       "      <td>281.0</td>\n",
       "      <td>19.0</td>\n",
       "      <td>395.63</td>\n",
       "      <td>7.22</td>\n",
       "      <td>23.9</td>\n",
       "    </tr>\n",
       "  </tbody>\n",
       "</table>\n",
       "</div>"
      ],
      "text/plain": [
       "       crim    zn  indus  chas    nox     rm    age     dis   rad    tax  ptratio       b  lstat  \\\n",
       "114   0.142   0.0  10.01   0.0  0.547  6.254   84.2   2.256   6.0  432.0     17.8  388.74  10.45   \n",
       "25    0.841   0.0   8.14   0.0  0.538  5.599   85.7   4.455   4.0  307.0     21.0  303.42  16.51   \n",
       "281   0.037  20.0   3.33   0.0  0.443  6.968   37.2   5.245   5.0  216.0     14.9  392.23   4.59   \n",
       "250   0.140  22.0   5.86   0.0  0.431  6.487   13.0   7.397   7.0  330.0     19.1  396.28   5.90   \n",
       "228   0.298   0.0   6.20   0.0  0.504  7.686   17.0   3.375   8.0  307.0     17.4  377.51   3.92   \n",
       "142   3.321   0.0  19.58   1.0  0.871  5.403  100.0   1.322   5.0  403.0     14.7  396.90  26.82   \n",
       "104   0.140   0.0   8.56   0.0  0.520  6.167   90.0   2.421   5.0  384.0     20.9  392.69  12.33   \n",
       "89    0.053   0.0   3.41   0.0  0.489  7.079   63.1   3.414   2.0  270.0     17.8  396.06   5.70   \n",
       "432   6.444   0.0  18.10   0.0  0.584  6.425   74.8   2.200  24.0  666.0     20.2   97.95  12.03   \n",
       "32    1.388   0.0   8.14   0.0  0.538  5.950   82.0   3.990   4.0  307.0     21.0  232.60  27.71   \n",
       "30    1.131   0.0   8.14   0.0  0.538  5.713   94.1   4.233   4.0  307.0     21.0  360.17  22.60   \n",
       "95    0.122   0.0   2.89   0.0  0.445  6.625   57.8   3.495   2.0  276.0     18.0  357.98   6.65   \n",
       "223   0.615   0.0   6.20   0.0  0.507  6.618   80.8   3.272   8.0  307.0     17.4  396.90   7.60   \n",
       "238   0.082  30.0   4.93   0.0  0.428  6.481   18.5   6.190   6.0  300.0     16.6  379.41   6.36   \n",
       "333     NaN   NaN   5.19   NaN  0.515  6.316   38.1   6.458   5.0    NaN     20.2  389.71   5.68   \n",
       "27    0.956   0.0   8.14   0.0  0.538  6.047   88.8   4.453   4.0  307.0     21.0  306.38  17.28   \n",
       "203   0.035  95.0   2.68   0.0  0.416  7.853   33.2   5.118   4.0  224.0     14.7  392.78   3.81   \n",
       "429   9.339   0.0  18.10   0.0  0.679  6.380   95.6   1.968  24.0  666.0     20.2   60.72  24.08   \n",
       "225   0.527   0.0   6.20   0.0  0.504  8.725   83.0   2.894   8.0  307.0     17.4  382.00   4.63   \n",
       "459   6.801   0.0  18.10   0.0  0.713  6.081   84.4   2.717  24.0  666.0     20.2  396.90  14.70   \n",
       "284   0.009  90.0   2.97   0.0  0.400  7.088   20.8   7.307   1.0  285.0     15.3  394.72   7.85   \n",
       "6     0.088  12.5   7.87   0.0  0.524  6.012   66.6   5.561   5.0  311.0     15.2  395.60  12.43   \n",
       "163   1.519   0.0  19.58   1.0  0.605  8.375   93.9   2.162   5.0  403.0     14.7  388.45   3.32   \n",
       "432   6.444   0.0  18.10   0.0  0.584  6.425   74.8   2.200  24.0  666.0     20.2   97.95  12.03   \n",
       "348   0.015  80.0   2.01   0.0  0.435  6.635   29.7   8.344   4.0  280.0     17.0  390.94   5.99   \n",
       "284   0.009  90.0   2.97   0.0  0.400  7.088   20.8   7.307   1.0  285.0     15.3  394.72   7.85   \n",
       "159   1.425   0.0  19.58   0.0  0.871  6.510  100.0   1.766   5.0  403.0     14.7  364.31   7.39   \n",
       "220   0.358   0.0   6.20   1.0  0.507  6.951   88.5   2.862   8.0  307.0     17.4  391.70   9.71   \n",
       "344   0.030  55.0   3.78   0.0  0.484  6.874   28.1   6.465   5.0  370.0     17.6  387.97   4.61   \n",
       "104   0.140   0.0   8.56   0.0  0.520  6.167   90.0   2.421   5.0  384.0     20.9  392.69  12.33   \n",
       "94    0.043  28.0  15.04   0.0  0.464  6.249   77.3   3.615   4.0  270.0     18.2  396.90  10.59   \n",
       "389   8.152   0.0  18.10   0.0  0.700  5.390   98.9   1.728  24.0  666.0     20.2  396.90  20.85   \n",
       "99    0.069   0.0   2.89   0.0  0.445  7.416   62.5   3.495   2.0  276.0     18.0  396.90   6.19   \n",
       "367  13.522   0.0  18.10   0.0  0.631  3.863  100.0   1.511  24.0  666.0     20.2  131.42  13.33   \n",
       "352   0.072  60.0   1.69   0.0  0.411  5.884   18.5  10.710   4.0  411.0     18.3  392.33   7.79   \n",
       "270   0.299  20.0   6.96   0.0  0.464  5.856   42.1   4.429   3.0  223.0     18.6  388.65  13.00   \n",
       "44    0.123   0.0   6.91   0.0  0.448  6.069   40.0   5.721   3.0  233.0     17.9  389.39   9.55   \n",
       "470   4.349   0.0  18.10   0.0  0.580  6.167   84.0   3.033  24.0  666.0     20.2  396.90  16.29   \n",
       "286     NaN  80.0   1.76   NaN  0.385  6.230    NaN   9.089   NaN  241.0     18.2  341.60  12.93   \n",
       "127   0.259   0.0  21.89   0.0  0.624  5.693   96.0   1.788   4.0  437.0     21.2  392.11  17.19   \n",
       "387  22.597   0.0  18.10   0.0  0.700  5.000   89.5   1.518  24.0  666.0     20.2  396.90  31.99   \n",
       "80    0.041  25.0   4.86   0.0  0.426  6.727   33.5   5.401   4.0  281.0     19.0  396.90   5.29   \n",
       "300   0.044  70.0   2.24   0.0  0.400  6.871   47.4   7.828   5.0  358.0     14.8  390.86   6.07   \n",
       "370   6.539   0.0  18.10   1.0  0.631  7.016   97.5   1.202  24.0  666.0     20.2  392.05   2.96   \n",
       "196   0.040  80.0   1.52   0.0  0.404  7.287   34.1   7.309   2.0  329.0     12.6  396.90   4.08   \n",
       "71    0.159   0.0  10.81   0.0  0.413  5.961   17.5   5.287   4.0  305.0     19.2  376.94   9.88   \n",
       "46    0.188   0.0   6.91   0.0  0.448  5.786   33.3   5.100   3.0  233.0     17.9  396.90  14.15   \n",
       "233   0.331   0.0   6.20   0.0  0.507  8.247   70.4   3.652   8.0  307.0     17.4  378.95   3.95   \n",
       "296   0.054   0.0  13.92   0.0  0.437  6.549   51.0   5.960   4.0  289.0     16.0  392.85   7.39   \n",
       "81    0.045  25.0   4.86   0.0  0.426  6.619   70.4   5.401   4.0  281.0     19.0  395.63   7.22   \n",
       "\n",
       "     medv  \n",
       "114  18.5  \n",
       "25   13.9  \n",
       "281  35.4  \n",
       "250  24.4  \n",
       "228  46.7  \n",
       "142  13.4  \n",
       "104  20.1  \n",
       "89   28.7  \n",
       "432  16.1  \n",
       "32   13.2  \n",
       "30   12.7  \n",
       "95   28.4  \n",
       "223  30.1  \n",
       "238  23.7  \n",
       "333  22.2  \n",
       "27   14.8  \n",
       "203  48.5  \n",
       "429   9.5  \n",
       "225  50.0  \n",
       "459  20.0  \n",
       "284  32.2  \n",
       "6    22.9  \n",
       "163  50.0  \n",
       "432  16.1  \n",
       "348  24.5  \n",
       "284  32.2  \n",
       "159  23.3  \n",
       "220  26.7  \n",
       "344  31.2  \n",
       "104  20.1  \n",
       "94   20.6  \n",
       "389  11.5  \n",
       "99   33.2  \n",
       "367  23.1  \n",
       "352  18.6  \n",
       "270  21.1  \n",
       "44   21.2  \n",
       "470  19.9  \n",
       "286  20.1  \n",
       "127  16.2  \n",
       "387   7.4  \n",
       "80   28.0  \n",
       "300  24.8  \n",
       "370  50.0  \n",
       "196  33.3  \n",
       "71   21.7  \n",
       "46   20.0  \n",
       "233  48.3  \n",
       "296  27.1  \n",
       "81   23.9  "
      ]
     },
     "execution_count": 21,
     "metadata": {},
     "output_type": "execute_result"
    }
   ],
   "source": [
    "total_rows_count = data.shape[0]\n",
    "duplicated_rows_count = data[data.duplicated()].shape[0]\n",
    "print(\"% of duplicated rows to total rows in the dataset:\", duplicated_rows_count / total_rows_count * 100)\n",
    "print()\n",
    "\n",
    "labels = (\"Total rows:\", \"Duplicate rows\", \"Unique rows\")\n",
    "values = (total_rows_count, duplicated_rows_count, total_rows_count - duplicated_rows_count)\n",
    "plt.title(\"Dataset with duplicated rows\")\n",
    "plt.bar(labels, values)\n",
    "plt.show()\n",
    "\n",
    "data[data.duplicated()]"
   ]
  },
  {
   "cell_type": "markdown",
   "metadata": {},
   "source": [
    "### Preparatory questions to ask"
   ]
  },
  {
   "cell_type": "markdown",
   "metadata": {},
   "source": [
    "Do you know or have:\n",
    "\n",
    "- The domain knowledge needed to understand the data. Have you done your research ?\n",
    "- Where it comes from\n",
    "    - Is it manually/automatically generated data or mix of both?\n",
    "    - Process used to create the data\n",
    "- Do you know the nature of the bias in the data ? Does it need to be reduced and can it be ?\n",
    "- Do we know the strengths and weaknesses of the data ? Is the data trustworthy, dirty -> do we need to fix it ?\n",
    "    - Are there outliers ? should we keep them ?\n",
    "    - Are there missing data ? what should we do about them ?\n",
    "- Are the data representative of the domain ?"
   ]
  },
  {
   "cell_type": "markdown",
   "metadata": {
    "colab_type": "text",
    "id": "5ZVFw4kaHVtO"
   },
   "source": [
    "### Please refer to the [Slides](http://bit.ly/do-you-know-your-data) for the step here after."
   ]
  }
 ],
 "metadata": {
  "colab": {
   "collapsed_sections": [],
   "name": "Exploratory Data Analysis (Do we know our data).ipynb",
   "provenance": [],
   "version": "0.3.2"
  },
  "kernelspec": {
   "display_name": "Python 3",
   "language": "python",
   "name": "python3"
  },
  "language_info": {
   "codemirror_mode": {
    "name": "ipython",
    "version": 3
   },
   "file_extension": ".py",
   "mimetype": "text/x-python",
   "name": "python",
   "nbconvert_exporter": "python",
   "pygments_lexer": "ipython3",
   "version": "3.6.7"
  }
 },
 "nbformat": 4,
 "nbformat_minor": 2
}
